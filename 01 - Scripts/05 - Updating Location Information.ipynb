{
 "cells": [
  {
   "cell_type": "markdown",
   "id": "783e07ce",
   "metadata": {},
   "source": [
    "# TOC\n",
    "1. Importing library & main data   \n",
    "2. Matching county names to JSON format   \n",
    "3. Importing county FIPS data   \n",
    "4. Merging FIPS data into main dataframe   \n",
    "5. Separating address information into new dataframe   \n",
    "6. Exporting unique addresses   \n",
    "7. Importing store latitude/longitude data   \n",
    "8. Merging latitude/longitude data into main dataframe   "
   ]
  },
  {
   "cell_type": "code",
   "execution_count": 1,
   "id": "2f66db2e",
   "metadata": {},
   "outputs": [],
   "source": [
    "# Importing libraries    \n",
    "import pandas as pd\n",
    "import numpy as np\n",
    "import os"
   ]
  },
  {
   "cell_type": "code",
   "execution_count": 2,
   "id": "344915d1",
   "metadata": {},
   "outputs": [],
   "source": [
    "# Importing data\n",
    "path = r'C:\\Users\\Ryzen RGB Madness!!!\\Iowa Liquor Sales Analysis'"
   ]
  },
  {
   "cell_type": "code",
   "execution_count": 3,
   "id": "b879c1dd",
   "metadata": {},
   "outputs": [],
   "source": [
    "liquor_data_complete = pd.read_pickle(os.path.join(path, '01 - Data', 'Cleaned', 'iowa_liquor_sales_and_population.pkl'))"
   ]
  },
  {
   "cell_type": "code",
   "execution_count": 4,
   "id": "b3c744fb",
   "metadata": {},
   "outputs": [],
   "source": [
    "# Setting county names into proper capitalization to match JSON data\n",
    "liquor_data_complete['county'] = liquor_data_complete['county'].str.title()"
   ]
  },
  {
   "cell_type": "code",
   "execution_count": 5,
   "id": "b9fd1f33",
   "metadata": {},
   "outputs": [],
   "source": [
    "# Matching O'Brien County to FIPS & JSON data\n",
    "liquor_data_complete['county'] = liquor_data_complete['county'].str.replace(\"O'Brien\",\"Obrien\")"
   ]
  },
  {
   "cell_type": "code",
   "execution_count": 6,
   "id": "8696ecb6",
   "metadata": {},
   "outputs": [
    {
     "data": {
      "text/html": [
       "<div>\n",
       "<style scoped>\n",
       "    .dataframe tbody tr th:only-of-type {\n",
       "        vertical-align: middle;\n",
       "    }\n",
       "\n",
       "    .dataframe tbody tr th {\n",
       "        vertical-align: top;\n",
       "    }\n",
       "\n",
       "    .dataframe thead th {\n",
       "        text-align: right;\n",
       "    }\n",
       "</style>\n",
       "<table border=\"1\" class=\"dataframe\">\n",
       "  <thead>\n",
       "    <tr style=\"text-align: right;\">\n",
       "      <th></th>\n",
       "      <th>invoice_number</th>\n",
       "      <th>date</th>\n",
       "      <th>store_number</th>\n",
       "      <th>store_name</th>\n",
       "      <th>address</th>\n",
       "      <th>city</th>\n",
       "      <th>zip_code</th>\n",
       "      <th>county</th>\n",
       "      <th>population</th>\n",
       "      <th>category</th>\n",
       "      <th>...</th>\n",
       "      <th>item_number</th>\n",
       "      <th>item_description</th>\n",
       "      <th>pack</th>\n",
       "      <th>bottle_volume_ml</th>\n",
       "      <th>state_bottle_cost</th>\n",
       "      <th>state_bottle_retail</th>\n",
       "      <th>bottles_sold</th>\n",
       "      <th>sale_dollars</th>\n",
       "      <th>volume_sold_liters</th>\n",
       "      <th>volume_sold_gallons</th>\n",
       "    </tr>\n",
       "  </thead>\n",
       "  <tbody>\n",
       "    <tr>\n",
       "      <th>0</th>\n",
       "      <td>INV-14210900001</td>\n",
       "      <td>2018-09-04</td>\n",
       "      <td>4617</td>\n",
       "      <td>LICKETY LIQUOR</td>\n",
       "      <td>2501 HUBBELL AVE</td>\n",
       "      <td>DES MOINES</td>\n",
       "      <td>50317</td>\n",
       "      <td>Polk</td>\n",
       "      <td>497254.0</td>\n",
       "      <td>1031100.0</td>\n",
       "      <td>...</td>\n",
       "      <td>36904</td>\n",
       "      <td>MCCORMICK VODKA PET</td>\n",
       "      <td>24</td>\n",
       "      <td>375</td>\n",
       "      <td>1.80</td>\n",
       "      <td>2.70</td>\n",
       "      <td>48</td>\n",
       "      <td>129.60</td>\n",
       "      <td>18.0</td>\n",
       "      <td>4.75</td>\n",
       "    </tr>\n",
       "    <tr>\n",
       "      <th>1</th>\n",
       "      <td>INV-16812800013</td>\n",
       "      <td>2019-01-08</td>\n",
       "      <td>5151</td>\n",
       "      <td>IDA LIQUOR</td>\n",
       "      <td>500  HWY 175</td>\n",
       "      <td>IDA GROVE</td>\n",
       "      <td>51445</td>\n",
       "      <td>Ida</td>\n",
       "      <td>6960.0</td>\n",
       "      <td>1031100.0</td>\n",
       "      <td>...</td>\n",
       "      <td>38176</td>\n",
       "      <td>TITOS HANDMADE VODKA</td>\n",
       "      <td>12</td>\n",
       "      <td>750</td>\n",
       "      <td>9.64</td>\n",
       "      <td>14.46</td>\n",
       "      <td>12</td>\n",
       "      <td>173.52</td>\n",
       "      <td>9.0</td>\n",
       "      <td>2.37</td>\n",
       "    </tr>\n",
       "    <tr>\n",
       "      <th>2</th>\n",
       "      <td>INV-18087600031</td>\n",
       "      <td>2019-03-12</td>\n",
       "      <td>5151</td>\n",
       "      <td>IDA LIQUOR</td>\n",
       "      <td>500  HWY 175</td>\n",
       "      <td>IDA GROVE</td>\n",
       "      <td>51445</td>\n",
       "      <td>Ida</td>\n",
       "      <td>6960.0</td>\n",
       "      <td>1011600.0</td>\n",
       "      <td>...</td>\n",
       "      <td>27102</td>\n",
       "      <td>TEMPLETON 4YR RYE</td>\n",
       "      <td>6</td>\n",
       "      <td>750</td>\n",
       "      <td>18.09</td>\n",
       "      <td>27.14</td>\n",
       "      <td>6</td>\n",
       "      <td>162.84</td>\n",
       "      <td>4.5</td>\n",
       "      <td>1.18</td>\n",
       "    </tr>\n",
       "    <tr>\n",
       "      <th>3</th>\n",
       "      <td>INV-15226900023</td>\n",
       "      <td>2018-10-23</td>\n",
       "      <td>5151</td>\n",
       "      <td>IDA LIQUOR</td>\n",
       "      <td>500  HWY 175</td>\n",
       "      <td>IDA GROVE</td>\n",
       "      <td>51445</td>\n",
       "      <td>Ida</td>\n",
       "      <td>6960.0</td>\n",
       "      <td>1031100.0</td>\n",
       "      <td>...</td>\n",
       "      <td>35918</td>\n",
       "      <td>FIVE O'CLOCK VODKA</td>\n",
       "      <td>6</td>\n",
       "      <td>1750</td>\n",
       "      <td>7.20</td>\n",
       "      <td>10.80</td>\n",
       "      <td>6</td>\n",
       "      <td>64.80</td>\n",
       "      <td>10.5</td>\n",
       "      <td>2.77</td>\n",
       "    </tr>\n",
       "    <tr>\n",
       "      <th>4</th>\n",
       "      <td>INV-17301000008</td>\n",
       "      <td>2019-02-01</td>\n",
       "      <td>2445</td>\n",
       "      <td>RUBACK'S FOOD CENTER</td>\n",
       "      <td>504 SOUTH HIGHWAY</td>\n",
       "      <td>OAKLAND</td>\n",
       "      <td>51560</td>\n",
       "      <td>Pottawattamie</td>\n",
       "      <td>93426.0</td>\n",
       "      <td>1031100.0</td>\n",
       "      <td>...</td>\n",
       "      <td>36306</td>\n",
       "      <td>HAWKEYE VODKA</td>\n",
       "      <td>12</td>\n",
       "      <td>750</td>\n",
       "      <td>3.34</td>\n",
       "      <td>5.01</td>\n",
       "      <td>12</td>\n",
       "      <td>60.12</td>\n",
       "      <td>9.0</td>\n",
       "      <td>2.37</td>\n",
       "    </tr>\n",
       "  </tbody>\n",
       "</table>\n",
       "<p>5 rows × 23 columns</p>\n",
       "</div>"
      ],
      "text/plain": [
       "    invoice_number       date store_number            store_name  \\\n",
       "0  INV-14210900001 2018-09-04         4617        LICKETY LIQUOR   \n",
       "1  INV-16812800013 2019-01-08         5151            IDA LIQUOR   \n",
       "2  INV-18087600031 2019-03-12         5151            IDA LIQUOR   \n",
       "3  INV-15226900023 2018-10-23         5151            IDA LIQUOR   \n",
       "4  INV-17301000008 2019-02-01         2445  RUBACK'S FOOD CENTER   \n",
       "\n",
       "             address        city zip_code         county  population  \\\n",
       "0   2501 HUBBELL AVE  DES MOINES    50317           Polk    497254.0   \n",
       "1       500  HWY 175   IDA GROVE    51445            Ida      6960.0   \n",
       "2       500  HWY 175   IDA GROVE    51445            Ida      6960.0   \n",
       "3       500  HWY 175   IDA GROVE    51445            Ida      6960.0   \n",
       "4  504 SOUTH HIGHWAY     OAKLAND    51560  Pottawattamie     93426.0   \n",
       "\n",
       "    category  ... item_number      item_description pack bottle_volume_ml  \\\n",
       "0  1031100.0  ...       36904   MCCORMICK VODKA PET   24              375   \n",
       "1  1031100.0  ...       38176  TITOS HANDMADE VODKA   12              750   \n",
       "2  1011600.0  ...       27102     TEMPLETON 4YR RYE    6              750   \n",
       "3  1031100.0  ...       35918    FIVE O'CLOCK VODKA    6             1750   \n",
       "4  1031100.0  ...       36306         HAWKEYE VODKA   12              750   \n",
       "\n",
       "  state_bottle_cost  state_bottle_retail  bottles_sold  sale_dollars  \\\n",
       "0              1.80                 2.70            48        129.60   \n",
       "1              9.64                14.46            12        173.52   \n",
       "2             18.09                27.14             6        162.84   \n",
       "3              7.20                10.80             6         64.80   \n",
       "4              3.34                 5.01            12         60.12   \n",
       "\n",
       "   volume_sold_liters  volume_sold_gallons  \n",
       "0                18.0                 4.75  \n",
       "1                 9.0                 2.37  \n",
       "2                 4.5                 1.18  \n",
       "3                10.5                 2.77  \n",
       "4                 9.0                 2.37  \n",
       "\n",
       "[5 rows x 23 columns]"
      ]
     },
     "execution_count": 6,
     "metadata": {},
     "output_type": "execute_result"
    }
   ],
   "source": [
    "liquor_data_complete.head()"
   ]
  },
  {
   "cell_type": "code",
   "execution_count": 7,
   "id": "c3f5df42",
   "metadata": {},
   "outputs": [],
   "source": [
    "# Importing FIPS data\n",
    "fips_data = pd.read_csv(os.path.join(path, '01 - Data', 'Original', 'iowa_county_fips.csv'))"
   ]
  },
  {
   "cell_type": "code",
   "execution_count": 8,
   "id": "c37ef8b8",
   "metadata": {},
   "outputs": [
    {
     "data": {
      "text/html": [
       "<div>\n",
       "<style scoped>\n",
       "    .dataframe tbody tr th:only-of-type {\n",
       "        vertical-align: middle;\n",
       "    }\n",
       "\n",
       "    .dataframe tbody tr th {\n",
       "        vertical-align: top;\n",
       "    }\n",
       "\n",
       "    .dataframe thead th {\n",
       "        text-align: right;\n",
       "    }\n",
       "</style>\n",
       "<table border=\"1\" class=\"dataframe\">\n",
       "  <thead>\n",
       "    <tr style=\"text-align: right;\">\n",
       "      <th></th>\n",
       "      <th>county_fips</th>\n",
       "      <th>county</th>\n",
       "    </tr>\n",
       "  </thead>\n",
       "  <tbody>\n",
       "    <tr>\n",
       "      <th>0</th>\n",
       "      <td>19119</td>\n",
       "      <td>Lyon</td>\n",
       "    </tr>\n",
       "    <tr>\n",
       "      <th>1</th>\n",
       "      <td>19143</td>\n",
       "      <td>Osceola</td>\n",
       "    </tr>\n",
       "    <tr>\n",
       "      <th>2</th>\n",
       "      <td>19059</td>\n",
       "      <td>Dickinson</td>\n",
       "    </tr>\n",
       "    <tr>\n",
       "      <th>3</th>\n",
       "      <td>19063</td>\n",
       "      <td>Emmet</td>\n",
       "    </tr>\n",
       "    <tr>\n",
       "      <th>4</th>\n",
       "      <td>19005</td>\n",
       "      <td>Allamakee</td>\n",
       "    </tr>\n",
       "  </tbody>\n",
       "</table>\n",
       "</div>"
      ],
      "text/plain": [
       "   county_fips     county\n",
       "0        19119       Lyon\n",
       "1        19143    Osceola\n",
       "2        19059  Dickinson\n",
       "3        19063      Emmet\n",
       "4        19005  Allamakee"
      ]
     },
     "execution_count": 8,
     "metadata": {},
     "output_type": "execute_result"
    }
   ],
   "source": [
    "fips_data.head()"
   ]
  },
  {
   "cell_type": "code",
   "execution_count": 9,
   "id": "9e1e4d93",
   "metadata": {},
   "outputs": [],
   "source": [
    "# Merging FIPS data into main dataframe\n",
    "liquor_data_complete = liquor_data_complete.merge(fips_data[['county_fips','county']],left_on=['county'],right_on=['county'],how='left')"
   ]
  },
  {
   "cell_type": "code",
   "execution_count": 10,
   "id": "b3555588",
   "metadata": {},
   "outputs": [
    {
     "data": {
      "text/plain": [
       "Index(['invoice_number', 'date', 'store_number', 'store_name', 'address',\n",
       "       'city', 'zip_code', 'county', 'population', 'category', 'category_name',\n",
       "       'vendor_number', 'vendor_name', 'item_number', 'item_description',\n",
       "       'pack', 'bottle_volume_ml', 'state_bottle_cost', 'state_bottle_retail',\n",
       "       'bottles_sold', 'sale_dollars', 'volume_sold_liters',\n",
       "       'volume_sold_gallons', 'county_fips'],\n",
       "      dtype='object')"
      ]
     },
     "execution_count": 10,
     "metadata": {},
     "output_type": "execute_result"
    }
   ],
   "source": [
    "liquor_data_complete.columns"
   ]
  },
  {
   "cell_type": "code",
   "execution_count": 11,
   "id": "c90eb384",
   "metadata": {},
   "outputs": [
    {
     "data": {
      "text/plain": [
       "invoice_number         0\n",
       "date                   0\n",
       "store_number           0\n",
       "store_name             0\n",
       "address                0\n",
       "city                   0\n",
       "zip_code               0\n",
       "county                 0\n",
       "population             0\n",
       "category               0\n",
       "category_name          0\n",
       "vendor_number          0\n",
       "vendor_name            0\n",
       "item_number            0\n",
       "item_description       0\n",
       "pack                   0\n",
       "bottle_volume_ml       0\n",
       "state_bottle_cost      0\n",
       "state_bottle_retail    0\n",
       "bottles_sold           0\n",
       "sale_dollars           0\n",
       "volume_sold_liters     0\n",
       "volume_sold_gallons    0\n",
       "county_fips            0\n",
       "dtype: int64"
      ]
     },
     "execution_count": 11,
     "metadata": {},
     "output_type": "execute_result"
    }
   ],
   "source": [
    "# Nulls?\n",
    "liquor_data_complete.isnull().sum()"
   ]
  },
  {
   "cell_type": "code",
   "execution_count": 12,
   "id": "10aaa825",
   "metadata": {},
   "outputs": [],
   "source": [
    "fips_nulls = liquor_data_complete[liquor_data_complete['county_fips'].isnull()==True]"
   ]
  },
  {
   "cell_type": "code",
   "execution_count": 13,
   "id": "1ac14853",
   "metadata": {},
   "outputs": [
    {
     "data": {
      "text/html": [
       "<div>\n",
       "<style scoped>\n",
       "    .dataframe tbody tr th:only-of-type {\n",
       "        vertical-align: middle;\n",
       "    }\n",
       "\n",
       "    .dataframe tbody tr th {\n",
       "        vertical-align: top;\n",
       "    }\n",
       "\n",
       "    .dataframe thead th {\n",
       "        text-align: right;\n",
       "    }\n",
       "</style>\n",
       "<table border=\"1\" class=\"dataframe\">\n",
       "  <thead>\n",
       "    <tr style=\"text-align: right;\">\n",
       "      <th></th>\n",
       "      <th>invoice_number</th>\n",
       "      <th>date</th>\n",
       "      <th>store_number</th>\n",
       "      <th>store_name</th>\n",
       "      <th>address</th>\n",
       "      <th>city</th>\n",
       "      <th>zip_code</th>\n",
       "      <th>county</th>\n",
       "      <th>population</th>\n",
       "      <th>category</th>\n",
       "      <th>...</th>\n",
       "      <th>item_description</th>\n",
       "      <th>pack</th>\n",
       "      <th>bottle_volume_ml</th>\n",
       "      <th>state_bottle_cost</th>\n",
       "      <th>state_bottle_retail</th>\n",
       "      <th>bottles_sold</th>\n",
       "      <th>sale_dollars</th>\n",
       "      <th>volume_sold_liters</th>\n",
       "      <th>volume_sold_gallons</th>\n",
       "      <th>county_fips</th>\n",
       "    </tr>\n",
       "  </thead>\n",
       "  <tbody>\n",
       "  </tbody>\n",
       "</table>\n",
       "<p>0 rows × 24 columns</p>\n",
       "</div>"
      ],
      "text/plain": [
       "Empty DataFrame\n",
       "Columns: [invoice_number, date, store_number, store_name, address, city, zip_code, county, population, category, category_name, vendor_number, vendor_name, item_number, item_description, pack, bottle_volume_ml, state_bottle_cost, state_bottle_retail, bottles_sold, sale_dollars, volume_sold_liters, volume_sold_gallons, county_fips]\n",
       "Index: []\n",
       "\n",
       "[0 rows x 24 columns]"
      ]
     },
     "execution_count": 13,
     "metadata": {},
     "output_type": "execute_result"
    }
   ],
   "source": [
    "fips_nulls.head()"
   ]
  },
  {
   "cell_type": "code",
   "execution_count": 14,
   "id": "7d3c63f7",
   "metadata": {},
   "outputs": [],
   "source": [
    "# Moving fips column before county \n",
    "liquor_data_complete = liquor_data_complete[['invoice_number', 'date', 'store_number', 'store_name', 'address',\n",
    "       'city', 'zip_code', 'county_fips', 'county', 'population', 'category', 'category_name',\n",
    "       'vendor_number', 'vendor_name', 'item_number', 'item_description',\n",
    "       'pack', 'bottle_volume_ml', 'state_bottle_cost', 'state_bottle_retail',\n",
    "       'bottles_sold', 'sale_dollars', 'volume_sold_liters',\n",
    "       'volume_sold_gallons']]"
   ]
  },
  {
   "cell_type": "code",
   "execution_count": 15,
   "id": "44357767",
   "metadata": {},
   "outputs": [],
   "source": [
    "# Duplicating dataframe (lat/long prep)\n",
    "addresses = liquor_data_complete[['address', 'city', 'zip_code']].copy()"
   ]
  },
  {
   "cell_type": "code",
   "execution_count": 16,
   "id": "ec4bbe7f",
   "metadata": {},
   "outputs": [
    {
     "data": {
      "text/plain": [
       "(12537543, 3)"
      ]
     },
     "execution_count": 16,
     "metadata": {},
     "output_type": "execute_result"
    }
   ],
   "source": [
    "addresses.shape"
   ]
  },
  {
   "cell_type": "code",
   "execution_count": 17,
   "id": "83f71054",
   "metadata": {},
   "outputs": [],
   "source": [
    "# Unique addresses only\n",
    "unique_addys = pd.DataFrame(addresses.address.dropna().unique(), columns=['address'])"
   ]
  },
  {
   "cell_type": "code",
   "execution_count": 18,
   "id": "bcdfc9c1",
   "metadata": {},
   "outputs": [
    {
     "data": {
      "text/plain": [
       "(2442, 1)"
      ]
     },
     "execution_count": 18,
     "metadata": {},
     "output_type": "execute_result"
    }
   ],
   "source": [
    "unique_addys.shape"
   ]
  },
  {
   "cell_type": "code",
   "execution_count": 19,
   "id": "9a28194d",
   "metadata": {},
   "outputs": [],
   "source": [
    "# exporting unique addresses to csv\n",
    "unique_addys.to_csv(os.path.join(path, '01 - Data', 'Cleaned', 'iowa_store_lats_longs.csv'))"
   ]
  },
  {
   "cell_type": "markdown",
   "id": "1bfb29e5",
   "metadata": {},
   "source": [
    "#### Outside Python:\n",
    "1. Verified no duplicates (Excel)   \n",
    "2. Added state column (Excel)   \n",
    "3. Cleaned unnecessary information from address column, notated row and what was (temporarily) removed (Excel)   \n",
    "4. Uploaded spreadsheet to Geocodio to get latitude/longitude data (Geocodio)   \n",
    "5. Saved original Geocodio csv with all data (including accuracy and source)   \n",
    "6. Removed unnecessary columns that don't need to be appended into dataset (Excel)   \n",
    "7. Saved revised csv as iowa_data_lats_longs"
   ]
  },
  {
   "cell_type": "code",
   "execution_count": 20,
   "id": "e1efaa3e",
   "metadata": {},
   "outputs": [],
   "source": [
    "# Importing lat/long data\n",
    "latlong_data = pd.read_csv(os.path.join(path, '01 - Data', 'Cleaned', 'iowa_data_lats_longs.csv'))"
   ]
  },
  {
   "cell_type": "code",
   "execution_count": 21,
   "id": "80248311",
   "metadata": {},
   "outputs": [
    {
     "data": {
      "text/plain": [
       "(2442, 3)"
      ]
     },
     "execution_count": 21,
     "metadata": {},
     "output_type": "execute_result"
    }
   ],
   "source": [
    "latlong_data.shape"
   ]
  },
  {
   "cell_type": "code",
   "execution_count": 22,
   "id": "1a411a6e",
   "metadata": {},
   "outputs": [
    {
     "data": {
      "text/html": [
       "<div>\n",
       "<style scoped>\n",
       "    .dataframe tbody tr th:only-of-type {\n",
       "        vertical-align: middle;\n",
       "    }\n",
       "\n",
       "    .dataframe tbody tr th {\n",
       "        vertical-align: top;\n",
       "    }\n",
       "\n",
       "    .dataframe thead th {\n",
       "        text-align: right;\n",
       "    }\n",
       "</style>\n",
       "<table border=\"1\" class=\"dataframe\">\n",
       "  <thead>\n",
       "    <tr style=\"text-align: right;\">\n",
       "      <th></th>\n",
       "      <th>address</th>\n",
       "      <th>latitude</th>\n",
       "      <th>longitude</th>\n",
       "    </tr>\n",
       "  </thead>\n",
       "  <tbody>\n",
       "    <tr>\n",
       "      <th>0</th>\n",
       "      <td>2501 HUBBELL AVE</td>\n",
       "      <td>41.607739</td>\n",
       "      <td>-93.570182</td>\n",
       "    </tr>\n",
       "    <tr>\n",
       "      <th>1</th>\n",
       "      <td>500  HWY 175</td>\n",
       "      <td>42.350164</td>\n",
       "      <td>-95.489235</td>\n",
       "    </tr>\n",
       "    <tr>\n",
       "      <th>2</th>\n",
       "      <td>504 SOUTH HIGHWAY</td>\n",
       "      <td>41.309302</td>\n",
       "      <td>-95.396649</td>\n",
       "    </tr>\n",
       "    <tr>\n",
       "      <th>3</th>\n",
       "      <td>ONE PRAIRIE MEADOWS DRIVE</td>\n",
       "      <td>41.654455</td>\n",
       "      <td>-93.489788</td>\n",
       "    </tr>\n",
       "    <tr>\n",
       "      <th>4</th>\n",
       "      <td>910 N JEFFERSON</td>\n",
       "      <td>41.368740</td>\n",
       "      <td>-93.556483</td>\n",
       "    </tr>\n",
       "  </tbody>\n",
       "</table>\n",
       "</div>"
      ],
      "text/plain": [
       "                     address   latitude  longitude\n",
       "0           2501 HUBBELL AVE  41.607739 -93.570182\n",
       "1               500  HWY 175  42.350164 -95.489235\n",
       "2          504 SOUTH HIGHWAY  41.309302 -95.396649\n",
       "3  ONE PRAIRIE MEADOWS DRIVE  41.654455 -93.489788\n",
       "4            910 N JEFFERSON  41.368740 -93.556483"
      ]
     },
     "execution_count": 22,
     "metadata": {},
     "output_type": "execute_result"
    }
   ],
   "source": [
    "latlong_data.head()"
   ]
  },
  {
   "cell_type": "code",
   "execution_count": 23,
   "id": "284d5a62",
   "metadata": {},
   "outputs": [],
   "source": [
    "# Merging lat/long data into main dataframe\n",
    "liquor_data_all = liquor_data_complete.merge(latlong_data[['address', 'latitude', 'longitude']],left_on=['address'],right_on=['address'],how='left')"
   ]
  },
  {
   "cell_type": "code",
   "execution_count": 24,
   "id": "07fa4c96",
   "metadata": {},
   "outputs": [
    {
     "data": {
      "text/plain": [
       "(12537543, 26)"
      ]
     },
     "execution_count": 24,
     "metadata": {},
     "output_type": "execute_result"
    }
   ],
   "source": [
    "liquor_data_all.shape"
   ]
  },
  {
   "cell_type": "code",
   "execution_count": 25,
   "id": "17db45bd",
   "metadata": {},
   "outputs": [
    {
     "data": {
      "text/html": [
       "<div>\n",
       "<style scoped>\n",
       "    .dataframe tbody tr th:only-of-type {\n",
       "        vertical-align: middle;\n",
       "    }\n",
       "\n",
       "    .dataframe tbody tr th {\n",
       "        vertical-align: top;\n",
       "    }\n",
       "\n",
       "    .dataframe thead th {\n",
       "        text-align: right;\n",
       "    }\n",
       "</style>\n",
       "<table border=\"1\" class=\"dataframe\">\n",
       "  <thead>\n",
       "    <tr style=\"text-align: right;\">\n",
       "      <th></th>\n",
       "      <th>invoice_number</th>\n",
       "      <th>date</th>\n",
       "      <th>store_number</th>\n",
       "      <th>store_name</th>\n",
       "      <th>address</th>\n",
       "      <th>city</th>\n",
       "      <th>zip_code</th>\n",
       "      <th>county_fips</th>\n",
       "      <th>county</th>\n",
       "      <th>population</th>\n",
       "      <th>...</th>\n",
       "      <th>pack</th>\n",
       "      <th>bottle_volume_ml</th>\n",
       "      <th>state_bottle_cost</th>\n",
       "      <th>state_bottle_retail</th>\n",
       "      <th>bottles_sold</th>\n",
       "      <th>sale_dollars</th>\n",
       "      <th>volume_sold_liters</th>\n",
       "      <th>volume_sold_gallons</th>\n",
       "      <th>latitude</th>\n",
       "      <th>longitude</th>\n",
       "    </tr>\n",
       "  </thead>\n",
       "  <tbody>\n",
       "    <tr>\n",
       "      <th>0</th>\n",
       "      <td>INV-14210900001</td>\n",
       "      <td>2018-09-04</td>\n",
       "      <td>4617</td>\n",
       "      <td>LICKETY LIQUOR</td>\n",
       "      <td>2501 HUBBELL AVE</td>\n",
       "      <td>DES MOINES</td>\n",
       "      <td>50317</td>\n",
       "      <td>19153</td>\n",
       "      <td>Polk</td>\n",
       "      <td>497254.0</td>\n",
       "      <td>...</td>\n",
       "      <td>24</td>\n",
       "      <td>375</td>\n",
       "      <td>1.80</td>\n",
       "      <td>2.70</td>\n",
       "      <td>48</td>\n",
       "      <td>129.60</td>\n",
       "      <td>18.0</td>\n",
       "      <td>4.75</td>\n",
       "      <td>41.607739</td>\n",
       "      <td>-93.570182</td>\n",
       "    </tr>\n",
       "    <tr>\n",
       "      <th>1</th>\n",
       "      <td>INV-16812800013</td>\n",
       "      <td>2019-01-08</td>\n",
       "      <td>5151</td>\n",
       "      <td>IDA LIQUOR</td>\n",
       "      <td>500  HWY 175</td>\n",
       "      <td>IDA GROVE</td>\n",
       "      <td>51445</td>\n",
       "      <td>19093</td>\n",
       "      <td>Ida</td>\n",
       "      <td>6960.0</td>\n",
       "      <td>...</td>\n",
       "      <td>12</td>\n",
       "      <td>750</td>\n",
       "      <td>9.64</td>\n",
       "      <td>14.46</td>\n",
       "      <td>12</td>\n",
       "      <td>173.52</td>\n",
       "      <td>9.0</td>\n",
       "      <td>2.37</td>\n",
       "      <td>42.350164</td>\n",
       "      <td>-95.489235</td>\n",
       "    </tr>\n",
       "    <tr>\n",
       "      <th>2</th>\n",
       "      <td>INV-18087600031</td>\n",
       "      <td>2019-03-12</td>\n",
       "      <td>5151</td>\n",
       "      <td>IDA LIQUOR</td>\n",
       "      <td>500  HWY 175</td>\n",
       "      <td>IDA GROVE</td>\n",
       "      <td>51445</td>\n",
       "      <td>19093</td>\n",
       "      <td>Ida</td>\n",
       "      <td>6960.0</td>\n",
       "      <td>...</td>\n",
       "      <td>6</td>\n",
       "      <td>750</td>\n",
       "      <td>18.09</td>\n",
       "      <td>27.14</td>\n",
       "      <td>6</td>\n",
       "      <td>162.84</td>\n",
       "      <td>4.5</td>\n",
       "      <td>1.18</td>\n",
       "      <td>42.350164</td>\n",
       "      <td>-95.489235</td>\n",
       "    </tr>\n",
       "    <tr>\n",
       "      <th>3</th>\n",
       "      <td>INV-15226900023</td>\n",
       "      <td>2018-10-23</td>\n",
       "      <td>5151</td>\n",
       "      <td>IDA LIQUOR</td>\n",
       "      <td>500  HWY 175</td>\n",
       "      <td>IDA GROVE</td>\n",
       "      <td>51445</td>\n",
       "      <td>19093</td>\n",
       "      <td>Ida</td>\n",
       "      <td>6960.0</td>\n",
       "      <td>...</td>\n",
       "      <td>6</td>\n",
       "      <td>1750</td>\n",
       "      <td>7.20</td>\n",
       "      <td>10.80</td>\n",
       "      <td>6</td>\n",
       "      <td>64.80</td>\n",
       "      <td>10.5</td>\n",
       "      <td>2.77</td>\n",
       "      <td>42.350164</td>\n",
       "      <td>-95.489235</td>\n",
       "    </tr>\n",
       "    <tr>\n",
       "      <th>4</th>\n",
       "      <td>INV-17301000008</td>\n",
       "      <td>2019-02-01</td>\n",
       "      <td>2445</td>\n",
       "      <td>RUBACK'S FOOD CENTER</td>\n",
       "      <td>504 SOUTH HIGHWAY</td>\n",
       "      <td>OAKLAND</td>\n",
       "      <td>51560</td>\n",
       "      <td>19155</td>\n",
       "      <td>Pottawattamie</td>\n",
       "      <td>93426.0</td>\n",
       "      <td>...</td>\n",
       "      <td>12</td>\n",
       "      <td>750</td>\n",
       "      <td>3.34</td>\n",
       "      <td>5.01</td>\n",
       "      <td>12</td>\n",
       "      <td>60.12</td>\n",
       "      <td>9.0</td>\n",
       "      <td>2.37</td>\n",
       "      <td>41.309302</td>\n",
       "      <td>-95.396649</td>\n",
       "    </tr>\n",
       "  </tbody>\n",
       "</table>\n",
       "<p>5 rows × 26 columns</p>\n",
       "</div>"
      ],
      "text/plain": [
       "    invoice_number       date store_number            store_name  \\\n",
       "0  INV-14210900001 2018-09-04         4617        LICKETY LIQUOR   \n",
       "1  INV-16812800013 2019-01-08         5151            IDA LIQUOR   \n",
       "2  INV-18087600031 2019-03-12         5151            IDA LIQUOR   \n",
       "3  INV-15226900023 2018-10-23         5151            IDA LIQUOR   \n",
       "4  INV-17301000008 2019-02-01         2445  RUBACK'S FOOD CENTER   \n",
       "\n",
       "             address        city zip_code  county_fips         county  \\\n",
       "0   2501 HUBBELL AVE  DES MOINES    50317        19153           Polk   \n",
       "1       500  HWY 175   IDA GROVE    51445        19093            Ida   \n",
       "2       500  HWY 175   IDA GROVE    51445        19093            Ida   \n",
       "3       500  HWY 175   IDA GROVE    51445        19093            Ida   \n",
       "4  504 SOUTH HIGHWAY     OAKLAND    51560        19155  Pottawattamie   \n",
       "\n",
       "   population  ... pack bottle_volume_ml state_bottle_cost  \\\n",
       "0    497254.0  ...   24              375              1.80   \n",
       "1      6960.0  ...   12              750              9.64   \n",
       "2      6960.0  ...    6              750             18.09   \n",
       "3      6960.0  ...    6             1750              7.20   \n",
       "4     93426.0  ...   12              750              3.34   \n",
       "\n",
       "  state_bottle_retail bottles_sold sale_dollars  volume_sold_liters  \\\n",
       "0                2.70           48       129.60                18.0   \n",
       "1               14.46           12       173.52                 9.0   \n",
       "2               27.14            6       162.84                 4.5   \n",
       "3               10.80            6        64.80                10.5   \n",
       "4                5.01           12        60.12                 9.0   \n",
       "\n",
       "   volume_sold_gallons   latitude  longitude  \n",
       "0                 4.75  41.607739 -93.570182  \n",
       "1                 2.37  42.350164 -95.489235  \n",
       "2                 1.18  42.350164 -95.489235  \n",
       "3                 2.77  42.350164 -95.489235  \n",
       "4                 2.37  41.309302 -95.396649  \n",
       "\n",
       "[5 rows x 26 columns]"
      ]
     },
     "execution_count": 25,
     "metadata": {},
     "output_type": "execute_result"
    }
   ],
   "source": [
    "liquor_data_all.head()"
   ]
  },
  {
   "cell_type": "code",
   "execution_count": 28,
   "id": "9bb0c5a1",
   "metadata": {},
   "outputs": [],
   "source": [
    "# Moving lat/long columns before county_fips\n",
    "liquor_data_all = liquor_data_all[['invoice_number', 'date', 'store_number', 'store_name', 'address',\n",
    "       'city', 'zip_code', 'latitude', 'longitude', 'county_fips', 'county', 'population', 'category', 'category_name',\n",
    "       'vendor_number', 'vendor_name', 'item_number', 'item_description',\n",
    "       'pack', 'bottle_volume_ml', 'state_bottle_cost', 'state_bottle_retail',\n",
    "       'bottles_sold', 'sale_dollars', 'volume_sold_liters',\n",
    "       'volume_sold_gallons']]"
   ]
  },
  {
   "cell_type": "code",
   "execution_count": 29,
   "id": "5515eca2",
   "metadata": {},
   "outputs": [
    {
     "data": {
      "text/plain": [
       "invoice_number         0\n",
       "date                   0\n",
       "store_number           0\n",
       "store_name             0\n",
       "address                0\n",
       "city                   0\n",
       "zip_code               0\n",
       "latitude               0\n",
       "longitude              0\n",
       "county_fips            0\n",
       "county                 0\n",
       "population             0\n",
       "category               0\n",
       "category_name          0\n",
       "vendor_number          0\n",
       "vendor_name            0\n",
       "item_number            0\n",
       "item_description       0\n",
       "pack                   0\n",
       "bottle_volume_ml       0\n",
       "state_bottle_cost      0\n",
       "state_bottle_retail    0\n",
       "bottles_sold           0\n",
       "sale_dollars           0\n",
       "volume_sold_liters     0\n",
       "volume_sold_gallons    0\n",
       "dtype: int64"
      ]
     },
     "execution_count": 29,
     "metadata": {},
     "output_type": "execute_result"
    }
   ],
   "source": [
    "# Checking for nulls\n",
    "liquor_data_all.isnull().sum()"
   ]
  },
  {
   "cell_type": "code",
   "execution_count": 32,
   "id": "1b6b517f",
   "metadata": {},
   "outputs": [],
   "source": [
    "# Exporting full dataset\n",
    "liquor_data_all.to_pickle(os.path.join(path, '01 - Data', 'Cleaned', 'iowa_sales_location_population.pkl'))"
   ]
  },
  {
   "cell_type": "code",
   "execution_count": null,
   "id": "8bfbf2b5",
   "metadata": {},
   "outputs": [],
   "source": []
  }
 ],
 "metadata": {
  "kernelspec": {
   "display_name": "Python 3 (ipykernel)",
   "language": "python",
   "name": "python3"
  },
  "language_info": {
   "codemirror_mode": {
    "name": "ipython",
    "version": 3
   },
   "file_extension": ".py",
   "mimetype": "text/x-python",
   "name": "python",
   "nbconvert_exporter": "python",
   "pygments_lexer": "ipython3",
   "version": "3.11.4"
  }
 },
 "nbformat": 4,
 "nbformat_minor": 5
}
