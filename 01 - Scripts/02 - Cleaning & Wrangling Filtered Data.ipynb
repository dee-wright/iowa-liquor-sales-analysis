{
 "cells": [
  {
   "cell_type": "markdown",
   "id": "c357c6dc",
   "metadata": {},
   "source": [
    "# TOC\n",
    "1. Import Libraries & Data     \n",
    "2. Inspecting filtered data   \n",
    "3. Renaming columns to best practices (no capitalization, special characters)   \n",
    "4. Converting date column to datetime format   \n",
    "5. Checking for null values   \n",
    "6. Separating 'zip_code' nulls into csv for updating   \n",
    "7. Separating 'category' nulls into csv for updating  \n",
    "8. Dropping 'store_location' and 'county_num' columns (not needed)\n",
    "9. Dropping 'zip_code' nulls & 'category' nulls from main data (merge prep)  \n",
    "10. Setting correct datatypes   \n",
    "11. Merging dataframes via pd.concat & checking null values     \n",
    "12. Resetting dataframe index   \n",
    "13. Correcting minor issues (removing commas from address fields, correcting misspelled city names)   \n",
    "14. Exporting final cleaned dataframe to pickle to begin analysis. "
   ]
  },
  {
   "cell_type": "code",
   "execution_count": 1,
   "id": "baae7f51",
   "metadata": {},
   "outputs": [],
   "source": [
    "# Importing libraries\n",
    "import pandas as pd\n",
    "import numpy as np\n",
    "import os\n",
    "import datetime"
   ]
  },
  {
   "cell_type": "code",
   "execution_count": 2,
   "id": "5346f1de",
   "metadata": {},
   "outputs": [],
   "source": [
    "# Importing filtered data\n",
    "path = r'C:\\Users\\Ryzen RGB Madness!!!\\Iowa Liquor Sales Analysis'"
   ]
  },
  {
   "cell_type": "code",
   "execution_count": 3,
   "id": "ff009e7e",
   "metadata": {},
   "outputs": [],
   "source": [
    "liquor_data = pd.read_pickle(os.path.join(path, '01 - Data', 'Original', 'iowa_liquor_sales_jan18_to_dec22_orig.pkl'))"
   ]
  },
  {
   "cell_type": "code",
   "execution_count": 4,
   "id": "aff99f9b",
   "metadata": {},
   "outputs": [
    {
     "data": {
      "text/plain": [
       "(12537545, 24)"
      ]
     },
     "execution_count": 4,
     "metadata": {},
     "output_type": "execute_result"
    }
   ],
   "source": [
    "# Inspecting filtered data\n",
    "liquor_data.shape"
   ]
  },
  {
   "cell_type": "code",
   "execution_count": 5,
   "id": "c7f41bc0",
   "metadata": {},
   "outputs": [
    {
     "data": {
      "text/plain": [
       "invoice_number               0\n",
       "date                         0\n",
       "store_number                 0\n",
       "store_name                   0\n",
       "address                   8578\n",
       "city                      8578\n",
       "zip_code                  8600\n",
       "store_location         1208917\n",
       "county_num             1253835\n",
       "county                    8578\n",
       "category                  5621\n",
       "category_name             5621\n",
       "vendor_number                7\n",
       "vendor_name                  7\n",
       "item_number                  0\n",
       "item_description             0\n",
       "pack                         0\n",
       "bottle_volume_ml             0\n",
       "state_bottle_cost            0\n",
       "state_bottle_retail          0\n",
       "bottles_sold                 0\n",
       "sale_dollars                 0\n",
       "volume_sold_liters           0\n",
       "volume_sold_gallons          0\n",
       "dtype: int64"
      ]
     },
     "execution_count": 5,
     "metadata": {},
     "output_type": "execute_result"
    }
   ],
   "source": [
    "# Checking for null values\n",
    "liquor_data.isnull().sum()"
   ]
  },
  {
   "cell_type": "code",
   "execution_count": 6,
   "id": "33ae4f66",
   "metadata": {},
   "outputs": [],
   "source": [
    "# Separating zip code nulls into separate dataframe\n",
    "address_issues = liquor_data[liquor_data['zip_code'].isnull()==True]"
   ]
  },
  {
   "cell_type": "code",
   "execution_count": 7,
   "id": "203bfc00",
   "metadata": {},
   "outputs": [
    {
     "data": {
      "text/plain": [
       "(8600, 24)"
      ]
     },
     "execution_count": 7,
     "metadata": {},
     "output_type": "execute_result"
    }
   ],
   "source": [
    "address_issues.shape"
   ]
  },
  {
   "cell_type": "code",
   "execution_count": 8,
   "id": "a53951a0",
   "metadata": {},
   "outputs": [],
   "source": [
    "# Saving missing addresses to csv to impute data (check against records in main dataset)\n",
    "address_issues.to_csv(os.path.join(path, '01 - Data', 'Original', 'iowa_liquor_sales_jan18_to_dec22_missing_addys2.csv'))"
   ]
  },
  {
   "cell_type": "code",
   "execution_count": 9,
   "id": "67436076",
   "metadata": {},
   "outputs": [],
   "source": [
    "# Separating category nulls into separate dataframe\n",
    "category_issues = liquor_data[liquor_data['category'].isnull()==True]"
   ]
  },
  {
   "cell_type": "code",
   "execution_count": 10,
   "id": "9e3a3708",
   "metadata": {},
   "outputs": [
    {
     "data": {
      "text/plain": [
       "(5621, 24)"
      ]
     },
     "execution_count": 10,
     "metadata": {},
     "output_type": "execute_result"
    }
   ],
   "source": [
    "category_issues.shape"
   ]
  },
  {
   "cell_type": "code",
   "execution_count": 11,
   "id": "2ae0a8d5",
   "metadata": {},
   "outputs": [],
   "source": [
    "# Saving missing categories to csv to impute data (check against records in main dataset)\n",
    "category_issues.to_csv(os.path.join(path, '01 - Data', 'Original', 'iowa_liquor_sales_jan18_to_dec22_missing_cats2.csv'))"
   ]
  },
  {
   "cell_type": "code",
   "execution_count": 12,
   "id": "396a6e57",
   "metadata": {},
   "outputs": [],
   "source": [
    "# Removing nulls\n",
    "liquor_data_updated = liquor_data.dropna(axis=0,subset=['address'])"
   ]
  },
  {
   "cell_type": "code",
   "execution_count": 13,
   "id": "9be69dc1",
   "metadata": {},
   "outputs": [
    {
     "data": {
      "text/plain": [
       "(12528967, 24)"
      ]
     },
     "execution_count": 13,
     "metadata": {},
     "output_type": "execute_result"
    }
   ],
   "source": [
    "liquor_data_updated.shape"
   ]
  },
  {
   "cell_type": "code",
   "execution_count": 14,
   "id": "f5488898",
   "metadata": {},
   "outputs": [
    {
     "data": {
      "text/plain": [
       "invoice_number               0\n",
       "date                         0\n",
       "store_number                 0\n",
       "store_name                   0\n",
       "address                      0\n",
       "city                         0\n",
       "zip_code                    22\n",
       "store_location         1200339\n",
       "county_num             1245257\n",
       "county                       0\n",
       "category                  5610\n",
       "category_name             5610\n",
       "vendor_number                7\n",
       "vendor_name                  7\n",
       "item_number                  0\n",
       "item_description             0\n",
       "pack                         0\n",
       "bottle_volume_ml             0\n",
       "state_bottle_cost            0\n",
       "state_bottle_retail          0\n",
       "bottles_sold                 0\n",
       "sale_dollars                 0\n",
       "volume_sold_liters           0\n",
       "volume_sold_gallons          0\n",
       "dtype: int64"
      ]
     },
     "execution_count": 14,
     "metadata": {},
     "output_type": "execute_result"
    }
   ],
   "source": [
    "# Checking for null values\n",
    "liquor_data_updated.isnull().sum()"
   ]
  },
  {
   "cell_type": "code",
   "execution_count": 15,
   "id": "f7b9d4ce",
   "metadata": {},
   "outputs": [],
   "source": [
    "liquor_data_updated = liquor_data.dropna(axis=0,subset=['zip_code'])"
   ]
  },
  {
   "cell_type": "code",
   "execution_count": 16,
   "id": "fb373606",
   "metadata": {},
   "outputs": [
    {
     "data": {
      "text/plain": [
       "(12528945, 24)"
      ]
     },
     "execution_count": 16,
     "metadata": {},
     "output_type": "execute_result"
    }
   ],
   "source": [
    "liquor_data_updated.shape"
   ]
  },
  {
   "cell_type": "code",
   "execution_count": 17,
   "id": "90875c73",
   "metadata": {},
   "outputs": [
    {
     "data": {
      "text/plain": [
       "invoice_number               0\n",
       "date                         0\n",
       "store_number                 0\n",
       "store_name                   0\n",
       "address                      0\n",
       "city                         0\n",
       "zip_code                     0\n",
       "store_location         1200339\n",
       "county_num             1245235\n",
       "county                       0\n",
       "category                  5610\n",
       "category_name             5610\n",
       "vendor_number                7\n",
       "vendor_name                  7\n",
       "item_number                  0\n",
       "item_description             0\n",
       "pack                         0\n",
       "bottle_volume_ml             0\n",
       "state_bottle_cost            0\n",
       "state_bottle_retail          0\n",
       "bottles_sold                 0\n",
       "sale_dollars                 0\n",
       "volume_sold_liters           0\n",
       "volume_sold_gallons          0\n",
       "dtype: int64"
      ]
     },
     "execution_count": 17,
     "metadata": {},
     "output_type": "execute_result"
    }
   ],
   "source": [
    "# Checking for null values\n",
    "liquor_data_updated.isnull().sum()"
   ]
  },
  {
   "cell_type": "code",
   "execution_count": 18,
   "id": "56f63740",
   "metadata": {},
   "outputs": [],
   "source": [
    "liquor_data_updated = liquor_data_updated.dropna(axis=0,subset=['category'])"
   ]
  },
  {
   "cell_type": "code",
   "execution_count": 19,
   "id": "3d09469e",
   "metadata": {},
   "outputs": [
    {
     "data": {
      "text/plain": [
       "(12523335, 24)"
      ]
     },
     "execution_count": 19,
     "metadata": {},
     "output_type": "execute_result"
    }
   ],
   "source": [
    "liquor_data_updated.shape"
   ]
  },
  {
   "cell_type": "code",
   "execution_count": 20,
   "id": "f880bec4",
   "metadata": {},
   "outputs": [
    {
     "data": {
      "text/plain": [
       "invoice_number               0\n",
       "date                         0\n",
       "store_number                 0\n",
       "store_name                   0\n",
       "address                      0\n",
       "city                         0\n",
       "zip_code                     0\n",
       "store_location         1199924\n",
       "county_num             1245235\n",
       "county                       0\n",
       "category                     0\n",
       "category_name                0\n",
       "vendor_number                7\n",
       "vendor_name                  7\n",
       "item_number                  0\n",
       "item_description             0\n",
       "pack                         0\n",
       "bottle_volume_ml             0\n",
       "state_bottle_cost            0\n",
       "state_bottle_retail          0\n",
       "bottles_sold                 0\n",
       "sale_dollars                 0\n",
       "volume_sold_liters           0\n",
       "volume_sold_gallons          0\n",
       "dtype: int64"
      ]
     },
     "execution_count": 20,
     "metadata": {},
     "output_type": "execute_result"
    }
   ],
   "source": [
    "# Checking for null values\n",
    "liquor_data_updated.isnull().sum()"
   ]
  },
  {
   "cell_type": "code",
   "execution_count": 21,
   "id": "4ff3fa9a",
   "metadata": {},
   "outputs": [],
   "source": [
    "# Removing store_location & county_num from main dataframe\n",
    "liquor_data_updated = liquor_data_updated.drop(columns=['store_location','county_num'])"
   ]
  },
  {
   "cell_type": "code",
   "execution_count": 22,
   "id": "b7ede6fb",
   "metadata": {},
   "outputs": [],
   "source": [
    "# Importing updated csv data\n",
    "updated_info = pd.read_csv(os.path.join(path, '01 - Data', 'Original', 'iowa_liquor_sales_updated_info.csv'))"
   ]
  },
  {
   "cell_type": "code",
   "execution_count": 23,
   "id": "e40c19b7",
   "metadata": {},
   "outputs": [
    {
     "data": {
      "text/plain": [
       "(14210, 23)"
      ]
     },
     "execution_count": 23,
     "metadata": {},
     "output_type": "execute_result"
    }
   ],
   "source": [
    "updated_info.shape"
   ]
  },
  {
   "cell_type": "code",
   "execution_count": 24,
   "id": "43c6a50f",
   "metadata": {},
   "outputs": [
    {
     "data": {
      "text/plain": [
       "(12523335, 22)"
      ]
     },
     "execution_count": 24,
     "metadata": {},
     "output_type": "execute_result"
    }
   ],
   "source": [
    "liquor_data_updated.shape"
   ]
  },
  {
   "cell_type": "code",
   "execution_count": 25,
   "id": "c1f66fab",
   "metadata": {},
   "outputs": [
    {
     "data": {
      "text/html": [
       "<div>\n",
       "<style scoped>\n",
       "    .dataframe tbody tr th:only-of-type {\n",
       "        vertical-align: middle;\n",
       "    }\n",
       "\n",
       "    .dataframe tbody tr th {\n",
       "        vertical-align: top;\n",
       "    }\n",
       "\n",
       "    .dataframe thead th {\n",
       "        text-align: right;\n",
       "    }\n",
       "</style>\n",
       "<table border=\"1\" class=\"dataframe\">\n",
       "  <thead>\n",
       "    <tr style=\"text-align: right;\">\n",
       "      <th></th>\n",
       "      <th>date</th>\n",
       "      <th>store_number</th>\n",
       "      <th>category</th>\n",
       "      <th>vendor_number</th>\n",
       "      <th>pack</th>\n",
       "      <th>bottle_volume_ml</th>\n",
       "      <th>state_bottle_cost</th>\n",
       "      <th>state_bottle_retail</th>\n",
       "      <th>bottles_sold</th>\n",
       "      <th>sale_dollars</th>\n",
       "      <th>volume_sold_liters</th>\n",
       "      <th>volume_sold_gallons</th>\n",
       "    </tr>\n",
       "  </thead>\n",
       "  <tbody>\n",
       "    <tr>\n",
       "      <th>count</th>\n",
       "      <td>12523335</td>\n",
       "      <td>1.252334e+07</td>\n",
       "      <td>1.252334e+07</td>\n",
       "      <td>1.252333e+07</td>\n",
       "      <td>1.252334e+07</td>\n",
       "      <td>1.252334e+07</td>\n",
       "      <td>1.252334e+07</td>\n",
       "      <td>1.252334e+07</td>\n",
       "      <td>1.252334e+07</td>\n",
       "      <td>1.252334e+07</td>\n",
       "      <td>1.252334e+07</td>\n",
       "      <td>1.252334e+07</td>\n",
       "    </tr>\n",
       "    <tr>\n",
       "      <th>mean</th>\n",
       "      <td>2020-07-26 08:48:33.829837824</td>\n",
       "      <td>4.040714e+03</td>\n",
       "      <td>1.054589e+06</td>\n",
       "      <td>2.784899e+02</td>\n",
       "      <td>1.215238e+01</td>\n",
       "      <td>8.495249e+02</td>\n",
       "      <td>1.100302e+01</td>\n",
       "      <td>1.650641e+01</td>\n",
       "      <td>1.146680e+01</td>\n",
       "      <td>1.544708e+02</td>\n",
       "      <td>9.310626e+00</td>\n",
       "      <td>2.454669e+00</td>\n",
       "    </tr>\n",
       "    <tr>\n",
       "      <th>min</th>\n",
       "      <td>2018-01-02 00:00:00</td>\n",
       "      <td>2.106000e+03</td>\n",
       "      <td>1.011000e+06</td>\n",
       "      <td>1.000000e+01</td>\n",
       "      <td>1.000000e+00</td>\n",
       "      <td>2.000000e+01</td>\n",
       "      <td>3.300000e-01</td>\n",
       "      <td>5.000000e-01</td>\n",
       "      <td>-3.600000e+02</td>\n",
       "      <td>-9.720000e+03</td>\n",
       "      <td>-6.300000e+02</td>\n",
       "      <td>-1.664200e+02</td>\n",
       "    </tr>\n",
       "    <tr>\n",
       "      <th>25%</th>\n",
       "      <td>2019-05-08 00:00:00</td>\n",
       "      <td>2.633000e+03</td>\n",
       "      <td>1.012200e+06</td>\n",
       "      <td>2.050000e+02</td>\n",
       "      <td>6.000000e+00</td>\n",
       "      <td>6.000000e+02</td>\n",
       "      <td>5.780000e+00</td>\n",
       "      <td>8.670000e+00</td>\n",
       "      <td>3.000000e+00</td>\n",
       "      <td>3.825000e+01</td>\n",
       "      <td>1.500000e+00</td>\n",
       "      <td>3.900000e-01</td>\n",
       "    </tr>\n",
       "    <tr>\n",
       "      <th>50%</th>\n",
       "      <td>2020-08-07 00:00:00</td>\n",
       "      <td>4.106000e+03</td>\n",
       "      <td>1.031200e+06</td>\n",
       "      <td>2.600000e+02</td>\n",
       "      <td>1.200000e+01</td>\n",
       "      <td>7.500000e+02</td>\n",
       "      <td>8.740000e+00</td>\n",
       "      <td>1.311000e+01</td>\n",
       "      <td>6.000000e+00</td>\n",
       "      <td>8.100000e+01</td>\n",
       "      <td>4.800000e+00</td>\n",
       "      <td>1.260000e+00</td>\n",
       "    </tr>\n",
       "    <tr>\n",
       "      <th>75%</th>\n",
       "      <td>2021-10-19 00:00:00</td>\n",
       "      <td>5.113000e+03</td>\n",
       "      <td>1.062500e+06</td>\n",
       "      <td>3.950000e+02</td>\n",
       "      <td>1.200000e+01</td>\n",
       "      <td>1.000000e+03</td>\n",
       "      <td>1.350000e+01</td>\n",
       "      <td>2.025000e+01</td>\n",
       "      <td>1.200000e+01</td>\n",
       "      <td>1.616400e+02</td>\n",
       "      <td>1.050000e+01</td>\n",
       "      <td>2.770000e+00</td>\n",
       "    </tr>\n",
       "    <tr>\n",
       "      <th>max</th>\n",
       "      <td>2022-12-30 00:00:00</td>\n",
       "      <td>1.010600e+04</td>\n",
       "      <td>1.901200e+06</td>\n",
       "      <td>9.780000e+02</td>\n",
       "      <td>1.200000e+02</td>\n",
       "      <td>6.000000e+03</td>\n",
       "      <td>1.843600e+04</td>\n",
       "      <td>2.765400e+04</td>\n",
       "      <td>1.320000e+04</td>\n",
       "      <td>2.795573e+05</td>\n",
       "      <td>1.320000e+04</td>\n",
       "      <td>3.487070e+03</td>\n",
       "    </tr>\n",
       "    <tr>\n",
       "      <th>std</th>\n",
       "      <td>NaN</td>\n",
       "      <td>1.247433e+03</td>\n",
       "      <td>9.982848e+04</td>\n",
       "      <td>1.429499e+02</td>\n",
       "      <td>7.982139e+00</td>\n",
       "      <td>5.243411e+02</td>\n",
       "      <td>1.204768e+01</td>\n",
       "      <td>1.807121e+01</td>\n",
       "      <td>3.325281e+01</td>\n",
       "      <td>5.441892e+02</td>\n",
       "      <td>3.938463e+01</td>\n",
       "      <td>1.040450e+01</td>\n",
       "    </tr>\n",
       "  </tbody>\n",
       "</table>\n",
       "</div>"
      ],
      "text/plain": [
       "                                date  store_number      category  \\\n",
       "count                       12523335  1.252334e+07  1.252334e+07   \n",
       "mean   2020-07-26 08:48:33.829837824  4.040714e+03  1.054589e+06   \n",
       "min              2018-01-02 00:00:00  2.106000e+03  1.011000e+06   \n",
       "25%              2019-05-08 00:00:00  2.633000e+03  1.012200e+06   \n",
       "50%              2020-08-07 00:00:00  4.106000e+03  1.031200e+06   \n",
       "75%              2021-10-19 00:00:00  5.113000e+03  1.062500e+06   \n",
       "max              2022-12-30 00:00:00  1.010600e+04  1.901200e+06   \n",
       "std                              NaN  1.247433e+03  9.982848e+04   \n",
       "\n",
       "       vendor_number          pack  bottle_volume_ml  state_bottle_cost  \\\n",
       "count   1.252333e+07  1.252334e+07      1.252334e+07       1.252334e+07   \n",
       "mean    2.784899e+02  1.215238e+01      8.495249e+02       1.100302e+01   \n",
       "min     1.000000e+01  1.000000e+00      2.000000e+01       3.300000e-01   \n",
       "25%     2.050000e+02  6.000000e+00      6.000000e+02       5.780000e+00   \n",
       "50%     2.600000e+02  1.200000e+01      7.500000e+02       8.740000e+00   \n",
       "75%     3.950000e+02  1.200000e+01      1.000000e+03       1.350000e+01   \n",
       "max     9.780000e+02  1.200000e+02      6.000000e+03       1.843600e+04   \n",
       "std     1.429499e+02  7.982139e+00      5.243411e+02       1.204768e+01   \n",
       "\n",
       "       state_bottle_retail  bottles_sold  sale_dollars  volume_sold_liters  \\\n",
       "count         1.252334e+07  1.252334e+07  1.252334e+07        1.252334e+07   \n",
       "mean          1.650641e+01  1.146680e+01  1.544708e+02        9.310626e+00   \n",
       "min           5.000000e-01 -3.600000e+02 -9.720000e+03       -6.300000e+02   \n",
       "25%           8.670000e+00  3.000000e+00  3.825000e+01        1.500000e+00   \n",
       "50%           1.311000e+01  6.000000e+00  8.100000e+01        4.800000e+00   \n",
       "75%           2.025000e+01  1.200000e+01  1.616400e+02        1.050000e+01   \n",
       "max           2.765400e+04  1.320000e+04  2.795573e+05        1.320000e+04   \n",
       "std           1.807121e+01  3.325281e+01  5.441892e+02        3.938463e+01   \n",
       "\n",
       "       volume_sold_gallons  \n",
       "count         1.252334e+07  \n",
       "mean          2.454669e+00  \n",
       "min          -1.664200e+02  \n",
       "25%           3.900000e-01  \n",
       "50%           1.260000e+00  \n",
       "75%           2.770000e+00  \n",
       "max           3.487070e+03  \n",
       "std           1.040450e+01  "
      ]
     },
     "execution_count": 25,
     "metadata": {},
     "output_type": "execute_result"
    }
   ],
   "source": [
    "liquor_data_updated.describe()"
   ]
  },
  {
   "cell_type": "code",
   "execution_count": 26,
   "id": "61f5b88e",
   "metadata": {},
   "outputs": [
    {
     "data": {
      "text/plain": [
       "Unnamed: 0               int64\n",
       "invoice_number          object\n",
       "date                    object\n",
       "store_number             int64\n",
       "store_name              object\n",
       "address                 object\n",
       "city                    object\n",
       "zip_code                 int64\n",
       "county                  object\n",
       "category                 int64\n",
       "category_name           object\n",
       "vendor_number            int64\n",
       "vendor_name             object\n",
       "item_number              int64\n",
       "item_description        object\n",
       "pack                     int64\n",
       "bottle_volume_ml         int64\n",
       "state_bottle_cost      float64\n",
       "state_bottle_retail    float64\n",
       "bottles_sold             int64\n",
       "sale_dollars           float64\n",
       "volume_sold_liters     float64\n",
       "volume_sold_gallons    float64\n",
       "dtype: object"
      ]
     },
     "execution_count": 26,
     "metadata": {},
     "output_type": "execute_result"
    }
   ],
   "source": [
    "updated_info.dtypes"
   ]
  },
  {
   "cell_type": "code",
   "execution_count": 27,
   "id": "78cc9c6a",
   "metadata": {},
   "outputs": [],
   "source": [
    "# Converting updated_info 'date' column to datetime\n",
    "updated_info['date'] = pd.to_datetime(updated_info['date'], format=\"%m/%d/%Y\")"
   ]
  },
  {
   "cell_type": "code",
   "execution_count": 28,
   "id": "850cefc6",
   "metadata": {},
   "outputs": [
    {
     "data": {
      "text/plain": [
       "Unnamed: 0                      int64\n",
       "invoice_number                 object\n",
       "date                   datetime64[ns]\n",
       "store_number                    int64\n",
       "store_name                     object\n",
       "address                        object\n",
       "city                           object\n",
       "zip_code                        int64\n",
       "county                         object\n",
       "category                        int64\n",
       "category_name                  object\n",
       "vendor_number                   int64\n",
       "vendor_name                    object\n",
       "item_number                     int64\n",
       "item_description               object\n",
       "pack                            int64\n",
       "bottle_volume_ml                int64\n",
       "state_bottle_cost             float64\n",
       "state_bottle_retail           float64\n",
       "bottles_sold                    int64\n",
       "sale_dollars                  float64\n",
       "volume_sold_liters            float64\n",
       "volume_sold_gallons           float64\n",
       "dtype: object"
      ]
     },
     "execution_count": 28,
     "metadata": {},
     "output_type": "execute_result"
    }
   ],
   "source": [
    "updated_info.dtypes"
   ]
  },
  {
   "cell_type": "code",
   "execution_count": 29,
   "id": "ad8ed4d6",
   "metadata": {},
   "outputs": [
    {
     "data": {
      "text/plain": [
       "count                            14210\n",
       "mean     2019-09-11 17:18:36.228008192\n",
       "min                2018-01-02 00:00:00\n",
       "25%                2018-12-12 00:00:00\n",
       "50%                2019-07-09 00:00:00\n",
       "75%                2019-11-26 00:00:00\n",
       "max                2022-10-31 00:00:00\n",
       "Name: date, dtype: object"
      ]
     },
     "execution_count": 29,
     "metadata": {},
     "output_type": "execute_result"
    }
   ],
   "source": [
    "updated_info['date'].describe()"
   ]
  },
  {
   "cell_type": "code",
   "execution_count": 30,
   "id": "07985ee8",
   "metadata": {},
   "outputs": [
    {
     "data": {
      "text/plain": [
       "Unnamed: 0                      int64\n",
       "invoice_number                 object\n",
       "date                   datetime64[ns]\n",
       "store_number                    int64\n",
       "store_name                     object\n",
       "address                        object\n",
       "city                           object\n",
       "zip_code                        int64\n",
       "county                         object\n",
       "category                        int64\n",
       "category_name                  object\n",
       "vendor_number                   int64\n",
       "vendor_name                    object\n",
       "item_number                     int64\n",
       "item_description               object\n",
       "pack                            int64\n",
       "bottle_volume_ml                int64\n",
       "state_bottle_cost             float64\n",
       "state_bottle_retail           float64\n",
       "bottles_sold                    int64\n",
       "sale_dollars                  float64\n",
       "volume_sold_liters            float64\n",
       "volume_sold_gallons           float64\n",
       "dtype: object"
      ]
     },
     "execution_count": 30,
     "metadata": {},
     "output_type": "execute_result"
    }
   ],
   "source": [
    "# Removing index column\n",
    "updated_info.dtypes"
   ]
  },
  {
   "cell_type": "code",
   "execution_count": 31,
   "id": "bd1d2c92",
   "metadata": {},
   "outputs": [],
   "source": [
    "updated_info = updated_info.drop('Unnamed: 0', axis=1)"
   ]
  },
  {
   "cell_type": "code",
   "execution_count": 32,
   "id": "774d5df2",
   "metadata": {},
   "outputs": [
    {
     "data": {
      "text/plain": [
       "Index(['invoice_number', 'date', 'store_number', 'store_name', 'address',\n",
       "       'city', 'zip_code', 'county', 'category', 'category_name',\n",
       "       'vendor_number', 'vendor_name', 'item_number', 'item_description',\n",
       "       'pack', 'bottle_volume_ml', 'state_bottle_cost', 'state_bottle_retail',\n",
       "       'bottles_sold', 'sale_dollars', 'volume_sold_liters',\n",
       "       'volume_sold_gallons'],\n",
       "      dtype='object')"
      ]
     },
     "execution_count": 32,
     "metadata": {},
     "output_type": "execute_result"
    }
   ],
   "source": [
    "updated_info.columns"
   ]
  },
  {
   "cell_type": "code",
   "execution_count": 33,
   "id": "da13fa4e",
   "metadata": {},
   "outputs": [
    {
     "data": {
      "text/html": [
       "<div>\n",
       "<style scoped>\n",
       "    .dataframe tbody tr th:only-of-type {\n",
       "        vertical-align: middle;\n",
       "    }\n",
       "\n",
       "    .dataframe tbody tr th {\n",
       "        vertical-align: top;\n",
       "    }\n",
       "\n",
       "    .dataframe thead th {\n",
       "        text-align: right;\n",
       "    }\n",
       "</style>\n",
       "<table border=\"1\" class=\"dataframe\">\n",
       "  <thead>\n",
       "    <tr style=\"text-align: right;\">\n",
       "      <th></th>\n",
       "      <th>invoice_number</th>\n",
       "      <th>date</th>\n",
       "      <th>store_number</th>\n",
       "      <th>store_name</th>\n",
       "      <th>address</th>\n",
       "      <th>city</th>\n",
       "      <th>zip_code</th>\n",
       "      <th>county</th>\n",
       "      <th>category</th>\n",
       "      <th>category_name</th>\n",
       "      <th>...</th>\n",
       "      <th>item_number</th>\n",
       "      <th>item_description</th>\n",
       "      <th>pack</th>\n",
       "      <th>bottle_volume_ml</th>\n",
       "      <th>state_bottle_cost</th>\n",
       "      <th>state_bottle_retail</th>\n",
       "      <th>bottles_sold</th>\n",
       "      <th>sale_dollars</th>\n",
       "      <th>volume_sold_liters</th>\n",
       "      <th>volume_sold_gallons</th>\n",
       "    </tr>\n",
       "  </thead>\n",
       "  <tbody>\n",
       "    <tr>\n",
       "      <th>680506</th>\n",
       "      <td>INV-14210900001</td>\n",
       "      <td>2018-09-04</td>\n",
       "      <td>4617</td>\n",
       "      <td>LICKETY LIQUOR</td>\n",
       "      <td>2501 HUBBELL AVE</td>\n",
       "      <td>DES MOINES</td>\n",
       "      <td>50317</td>\n",
       "      <td>POLK</td>\n",
       "      <td>1031100.0</td>\n",
       "      <td>AMERICAN VODKAS</td>\n",
       "      <td>...</td>\n",
       "      <td>36904</td>\n",
       "      <td>MCCORMICK VODKA PET</td>\n",
       "      <td>24</td>\n",
       "      <td>375</td>\n",
       "      <td>1.80</td>\n",
       "      <td>2.70</td>\n",
       "      <td>48</td>\n",
       "      <td>129.60</td>\n",
       "      <td>18.00</td>\n",
       "      <td>4.75</td>\n",
       "    </tr>\n",
       "    <tr>\n",
       "      <th>1377843</th>\n",
       "      <td>INV-16812800013</td>\n",
       "      <td>2019-01-08</td>\n",
       "      <td>5151</td>\n",
       "      <td>IDA LIQUOR</td>\n",
       "      <td>500, HWY 175</td>\n",
       "      <td>IDA GROVE</td>\n",
       "      <td>51445</td>\n",
       "      <td>IDA</td>\n",
       "      <td>1031100.0</td>\n",
       "      <td>AMERICAN VODKAS</td>\n",
       "      <td>...</td>\n",
       "      <td>38176</td>\n",
       "      <td>TITOS HANDMADE VODKA</td>\n",
       "      <td>12</td>\n",
       "      <td>750</td>\n",
       "      <td>9.64</td>\n",
       "      <td>14.46</td>\n",
       "      <td>12</td>\n",
       "      <td>173.52</td>\n",
       "      <td>9.00</td>\n",
       "      <td>2.37</td>\n",
       "    </tr>\n",
       "    <tr>\n",
       "      <th>1382870</th>\n",
       "      <td>INV-18087600031</td>\n",
       "      <td>2019-03-12</td>\n",
       "      <td>5151</td>\n",
       "      <td>IDA LIQUOR</td>\n",
       "      <td>500, HWY 175</td>\n",
       "      <td>IDA GROVE</td>\n",
       "      <td>51445</td>\n",
       "      <td>IDA</td>\n",
       "      <td>1011600.0</td>\n",
       "      <td>STRAIGHT RYE WHISKIES</td>\n",
       "      <td>...</td>\n",
       "      <td>27102</td>\n",
       "      <td>TEMPLETON 4YR RYE</td>\n",
       "      <td>6</td>\n",
       "      <td>750</td>\n",
       "      <td>18.09</td>\n",
       "      <td>27.14</td>\n",
       "      <td>6</td>\n",
       "      <td>162.84</td>\n",
       "      <td>4.50</td>\n",
       "      <td>1.18</td>\n",
       "    </tr>\n",
       "    <tr>\n",
       "      <th>1385902</th>\n",
       "      <td>INV-15226900023</td>\n",
       "      <td>2018-10-23</td>\n",
       "      <td>5151</td>\n",
       "      <td>IDA LIQUOR</td>\n",
       "      <td>500, HWY 175</td>\n",
       "      <td>IDA GROVE</td>\n",
       "      <td>51445</td>\n",
       "      <td>IDA</td>\n",
       "      <td>1031100.0</td>\n",
       "      <td>AMERICAN VODKAS</td>\n",
       "      <td>...</td>\n",
       "      <td>35918</td>\n",
       "      <td>FIVE O'CLOCK VODKA</td>\n",
       "      <td>6</td>\n",
       "      <td>1750</td>\n",
       "      <td>7.20</td>\n",
       "      <td>10.80</td>\n",
       "      <td>6</td>\n",
       "      <td>64.80</td>\n",
       "      <td>10.50</td>\n",
       "      <td>2.77</td>\n",
       "    </tr>\n",
       "    <tr>\n",
       "      <th>1385954</th>\n",
       "      <td>INV-17301000008</td>\n",
       "      <td>2019-02-01</td>\n",
       "      <td>2445</td>\n",
       "      <td>RUBACK'S FOOD CENTER</td>\n",
       "      <td>504 SOUTH HIGHWAY</td>\n",
       "      <td>OAKLAND</td>\n",
       "      <td>51560</td>\n",
       "      <td>POTTAWATTAMIE</td>\n",
       "      <td>1031100.0</td>\n",
       "      <td>AMERICAN VODKAS</td>\n",
       "      <td>...</td>\n",
       "      <td>36306</td>\n",
       "      <td>HAWKEYE VODKA</td>\n",
       "      <td>12</td>\n",
       "      <td>750</td>\n",
       "      <td>3.34</td>\n",
       "      <td>5.01</td>\n",
       "      <td>12</td>\n",
       "      <td>60.12</td>\n",
       "      <td>9.00</td>\n",
       "      <td>2.37</td>\n",
       "    </tr>\n",
       "    <tr>\n",
       "      <th>...</th>\n",
       "      <td>...</td>\n",
       "      <td>...</td>\n",
       "      <td>...</td>\n",
       "      <td>...</td>\n",
       "      <td>...</td>\n",
       "      <td>...</td>\n",
       "      <td>...</td>\n",
       "      <td>...</td>\n",
       "      <td>...</td>\n",
       "      <td>...</td>\n",
       "      <td>...</td>\n",
       "      <td>...</td>\n",
       "      <td>...</td>\n",
       "      <td>...</td>\n",
       "      <td>...</td>\n",
       "      <td>...</td>\n",
       "      <td>...</td>\n",
       "      <td>...</td>\n",
       "      <td>...</td>\n",
       "      <td>...</td>\n",
       "      <td>...</td>\n",
       "    </tr>\n",
       "    <tr>\n",
       "      <th>14205</th>\n",
       "      <td>INV-52593300018</td>\n",
       "      <td>2022-10-31</td>\n",
       "      <td>10081</td>\n",
       "      <td>COLFAX TRAVEL CENTER / COLFAX</td>\n",
       "      <td>1405 NORTH WALNUT STREET</td>\n",
       "      <td>COLFAX</td>\n",
       "      <td>50054</td>\n",
       "      <td>JASPER</td>\n",
       "      <td>1011300.0</td>\n",
       "      <td>SINGLE BARREL BOURBON WHISKIES</td>\n",
       "      <td>...</td>\n",
       "      <td>27380</td>\n",
       "      <td>ANGELS ENVY RYE</td>\n",
       "      <td>6</td>\n",
       "      <td>750</td>\n",
       "      <td>44.99</td>\n",
       "      <td>67.49</td>\n",
       "      <td>1</td>\n",
       "      <td>67.49</td>\n",
       "      <td>0.75</td>\n",
       "      <td>0.19</td>\n",
       "    </tr>\n",
       "    <tr>\n",
       "      <th>14206</th>\n",
       "      <td>INV-52593300019</td>\n",
       "      <td>2022-10-31</td>\n",
       "      <td>10081</td>\n",
       "      <td>COLFAX TRAVEL CENTER / COLFAX</td>\n",
       "      <td>1405 NORTH WALNUT STREET</td>\n",
       "      <td>COLFAX</td>\n",
       "      <td>50054</td>\n",
       "      <td>JASPER</td>\n",
       "      <td>1081400.0</td>\n",
       "      <td>AMERICAN SCHNAPPS</td>\n",
       "      <td>...</td>\n",
       "      <td>84226</td>\n",
       "      <td>99 STRAWBERRIES MINI</td>\n",
       "      <td>10</td>\n",
       "      <td>50</td>\n",
       "      <td>5.16</td>\n",
       "      <td>7.74</td>\n",
       "      <td>1</td>\n",
       "      <td>7.74</td>\n",
       "      <td>0.05</td>\n",
       "      <td>0.01</td>\n",
       "    </tr>\n",
       "    <tr>\n",
       "      <th>14207</th>\n",
       "      <td>INV-52593300020</td>\n",
       "      <td>2022-10-31</td>\n",
       "      <td>10081</td>\n",
       "      <td>COLFAX TRAVEL CENTER / COLFAX</td>\n",
       "      <td>1405 NORTH WALNUT STREET</td>\n",
       "      <td>COLFAX</td>\n",
       "      <td>50054</td>\n",
       "      <td>JASPER</td>\n",
       "      <td>1081400.0</td>\n",
       "      <td>AMERICAN SCHNAPPS</td>\n",
       "      <td>...</td>\n",
       "      <td>84222</td>\n",
       "      <td>99 BLUE RASPBERRIES MINI</td>\n",
       "      <td>10</td>\n",
       "      <td>50</td>\n",
       "      <td>5.16</td>\n",
       "      <td>7.74</td>\n",
       "      <td>1</td>\n",
       "      <td>7.74</td>\n",
       "      <td>0.05</td>\n",
       "      <td>0.01</td>\n",
       "    </tr>\n",
       "    <tr>\n",
       "      <th>14208</th>\n",
       "      <td>INV-52593300021</td>\n",
       "      <td>2022-10-31</td>\n",
       "      <td>10081</td>\n",
       "      <td>COLFAX TRAVEL CENTER / COLFAX</td>\n",
       "      <td>1405 NORTH WALNUT STREET</td>\n",
       "      <td>COLFAX</td>\n",
       "      <td>50054</td>\n",
       "      <td>JASPER</td>\n",
       "      <td>1091300.0</td>\n",
       "      <td>NEUTRAL GRAIN SPIRITS FLAVORED</td>\n",
       "      <td>...</td>\n",
       "      <td>76067</td>\n",
       "      <td>MIDNIGHT MOON WATERMELON MINI</td>\n",
       "      <td>4</td>\n",
       "      <td>50</td>\n",
       "      <td>17.16</td>\n",
       "      <td>25.74</td>\n",
       "      <td>1</td>\n",
       "      <td>25.74</td>\n",
       "      <td>0.05</td>\n",
       "      <td>0.01</td>\n",
       "    </tr>\n",
       "    <tr>\n",
       "      <th>14209</th>\n",
       "      <td>INV-52593300022</td>\n",
       "      <td>2022-10-31</td>\n",
       "      <td>10081</td>\n",
       "      <td>COLFAX TRAVEL CENTER / COLFAX</td>\n",
       "      <td>1405 NORTH WALNUT STREET</td>\n",
       "      <td>COLFAX</td>\n",
       "      <td>50054</td>\n",
       "      <td>JASPER</td>\n",
       "      <td>1091100.0</td>\n",
       "      <td>AMERICAN DISTILLED SPIRITS SPECIALTY</td>\n",
       "      <td>...</td>\n",
       "      <td>86439</td>\n",
       "      <td>SKREWBALL PEANUT BUTTER WHISKEY</td>\n",
       "      <td>12</td>\n",
       "      <td>750</td>\n",
       "      <td>18.50</td>\n",
       "      <td>27.75</td>\n",
       "      <td>1</td>\n",
       "      <td>27.75</td>\n",
       "      <td>0.75</td>\n",
       "      <td>0.19</td>\n",
       "    </tr>\n",
       "  </tbody>\n",
       "</table>\n",
       "<p>12537545 rows × 22 columns</p>\n",
       "</div>"
      ],
      "text/plain": [
       "          invoice_number       date  store_number  \\\n",
       "680506   INV-14210900001 2018-09-04          4617   \n",
       "1377843  INV-16812800013 2019-01-08          5151   \n",
       "1382870  INV-18087600031 2019-03-12          5151   \n",
       "1385902  INV-15226900023 2018-10-23          5151   \n",
       "1385954  INV-17301000008 2019-02-01          2445   \n",
       "...                  ...        ...           ...   \n",
       "14205    INV-52593300018 2022-10-31         10081   \n",
       "14206    INV-52593300019 2022-10-31         10081   \n",
       "14207    INV-52593300020 2022-10-31         10081   \n",
       "14208    INV-52593300021 2022-10-31         10081   \n",
       "14209    INV-52593300022 2022-10-31         10081   \n",
       "\n",
       "                            store_name                   address        city  \\\n",
       "680506                  LICKETY LIQUOR          2501 HUBBELL AVE  DES MOINES   \n",
       "1377843                     IDA LIQUOR              500, HWY 175   IDA GROVE   \n",
       "1382870                     IDA LIQUOR              500, HWY 175   IDA GROVE   \n",
       "1385902                     IDA LIQUOR              500, HWY 175   IDA GROVE   \n",
       "1385954           RUBACK'S FOOD CENTER         504 SOUTH HIGHWAY     OAKLAND   \n",
       "...                                ...                       ...         ...   \n",
       "14205    COLFAX TRAVEL CENTER / COLFAX  1405 NORTH WALNUT STREET      COLFAX   \n",
       "14206    COLFAX TRAVEL CENTER / COLFAX  1405 NORTH WALNUT STREET      COLFAX   \n",
       "14207    COLFAX TRAVEL CENTER / COLFAX  1405 NORTH WALNUT STREET      COLFAX   \n",
       "14208    COLFAX TRAVEL CENTER / COLFAX  1405 NORTH WALNUT STREET      COLFAX   \n",
       "14209    COLFAX TRAVEL CENTER / COLFAX  1405 NORTH WALNUT STREET      COLFAX   \n",
       "\n",
       "        zip_code         county   category  \\\n",
       "680506     50317           POLK  1031100.0   \n",
       "1377843    51445            IDA  1031100.0   \n",
       "1382870    51445            IDA  1011600.0   \n",
       "1385902    51445            IDA  1031100.0   \n",
       "1385954    51560  POTTAWATTAMIE  1031100.0   \n",
       "...          ...            ...        ...   \n",
       "14205      50054         JASPER  1011300.0   \n",
       "14206      50054         JASPER  1081400.0   \n",
       "14207      50054         JASPER  1081400.0   \n",
       "14208      50054         JASPER  1091300.0   \n",
       "14209      50054         JASPER  1091100.0   \n",
       "\n",
       "                                category_name  ...  item_number  \\\n",
       "680506                        AMERICAN VODKAS  ...        36904   \n",
       "1377843                       AMERICAN VODKAS  ...        38176   \n",
       "1382870                 STRAIGHT RYE WHISKIES  ...        27102   \n",
       "1385902                       AMERICAN VODKAS  ...        35918   \n",
       "1385954                       AMERICAN VODKAS  ...        36306   \n",
       "...                                       ...  ...          ...   \n",
       "14205          SINGLE BARREL BOURBON WHISKIES  ...        27380   \n",
       "14206                       AMERICAN SCHNAPPS  ...        84226   \n",
       "14207                       AMERICAN SCHNAPPS  ...        84222   \n",
       "14208          NEUTRAL GRAIN SPIRITS FLAVORED  ...        76067   \n",
       "14209    AMERICAN DISTILLED SPIRITS SPECIALTY  ...        86439   \n",
       "\n",
       "                        item_description pack bottle_volume_ml  \\\n",
       "680506               MCCORMICK VODKA PET   24              375   \n",
       "1377843             TITOS HANDMADE VODKA   12              750   \n",
       "1382870                TEMPLETON 4YR RYE    6              750   \n",
       "1385902               FIVE O'CLOCK VODKA    6             1750   \n",
       "1385954                    HAWKEYE VODKA   12              750   \n",
       "...                                  ...  ...              ...   \n",
       "14205                    ANGELS ENVY RYE    6              750   \n",
       "14206               99 STRAWBERRIES MINI   10               50   \n",
       "14207           99 BLUE RASPBERRIES MINI   10               50   \n",
       "14208      MIDNIGHT MOON WATERMELON MINI    4               50   \n",
       "14209    SKREWBALL PEANUT BUTTER WHISKEY   12              750   \n",
       "\n",
       "         state_bottle_cost  state_bottle_retail  bottles_sold  sale_dollars  \\\n",
       "680506                1.80                 2.70            48        129.60   \n",
       "1377843               9.64                14.46            12        173.52   \n",
       "1382870              18.09                27.14             6        162.84   \n",
       "1385902               7.20                10.80             6         64.80   \n",
       "1385954               3.34                 5.01            12         60.12   \n",
       "...                    ...                  ...           ...           ...   \n",
       "14205                44.99                67.49             1         67.49   \n",
       "14206                 5.16                 7.74             1          7.74   \n",
       "14207                 5.16                 7.74             1          7.74   \n",
       "14208                17.16                25.74             1         25.74   \n",
       "14209                18.50                27.75             1         27.75   \n",
       "\n",
       "         volume_sold_liters  volume_sold_gallons  \n",
       "680506                18.00                 4.75  \n",
       "1377843                9.00                 2.37  \n",
       "1382870                4.50                 1.18  \n",
       "1385902               10.50                 2.77  \n",
       "1385954                9.00                 2.37  \n",
       "...                     ...                  ...  \n",
       "14205                  0.75                 0.19  \n",
       "14206                  0.05                 0.01  \n",
       "14207                  0.05                 0.01  \n",
       "14208                  0.05                 0.01  \n",
       "14209                  0.75                 0.19  \n",
       "\n",
       "[12537545 rows x 22 columns]"
      ]
     },
     "execution_count": 33,
     "metadata": {},
     "output_type": "execute_result"
    }
   ],
   "source": [
    "# Merging dataframes (test)\n",
    "pd.concat([liquor_data_updated, updated_info], axis=0)"
   ]
  },
  {
   "cell_type": "code",
   "execution_count": 34,
   "id": "291ec305",
   "metadata": {},
   "outputs": [],
   "source": [
    "# Merging dataframes into new dataframe\n",
    "liquor_data_complete = pd.concat([liquor_data_updated, updated_info], axis=0)"
   ]
  },
  {
   "cell_type": "code",
   "execution_count": 35,
   "id": "2d84ff4a",
   "metadata": {},
   "outputs": [
    {
     "data": {
      "text/plain": [
       "(12537545, 22)"
      ]
     },
     "execution_count": 35,
     "metadata": {},
     "output_type": "execute_result"
    }
   ],
   "source": [
    "liquor_data_complete.shape"
   ]
  },
  {
   "cell_type": "code",
   "execution_count": 36,
   "id": "a629f002",
   "metadata": {},
   "outputs": [
    {
     "data": {
      "text/plain": [
       "count                         12537545\n",
       "mean     2020-07-26 00:08:30.314642432\n",
       "min                2018-01-02 00:00:00\n",
       "25%                2019-05-08 00:00:00\n",
       "50%                2020-08-06 00:00:00\n",
       "75%                2021-10-19 00:00:00\n",
       "max                2022-12-30 00:00:00\n",
       "Name: date, dtype: object"
      ]
     },
     "execution_count": 36,
     "metadata": {},
     "output_type": "execute_result"
    }
   ],
   "source": [
    "liquor_data_complete['date'].describe()"
   ]
  },
  {
   "cell_type": "code",
   "execution_count": 38,
   "id": "d4fc41bb",
   "metadata": {},
   "outputs": [],
   "source": [
    "# Resetting index\n",
    "liquor_data_complete.reset_index(inplace=True, drop=True)"
   ]
  },
  {
   "cell_type": "code",
   "execution_count": 39,
   "id": "cfa93021",
   "metadata": {},
   "outputs": [
    {
     "data": {
      "text/plain": [
       "invoice_number                 object\n",
       "date                   datetime64[ns]\n",
       "store_number                    int64\n",
       "store_name                     object\n",
       "address                        object\n",
       "city                           object\n",
       "zip_code                       object\n",
       "county                         object\n",
       "category                      float64\n",
       "category_name                  object\n",
       "vendor_number                 float64\n",
       "vendor_name                    object\n",
       "item_number                    object\n",
       "item_description               object\n",
       "pack                            int64\n",
       "bottle_volume_ml                int64\n",
       "state_bottle_cost             float64\n",
       "state_bottle_retail           float64\n",
       "bottles_sold                    int64\n",
       "sale_dollars                  float64\n",
       "volume_sold_liters            float64\n",
       "volume_sold_gallons           float64\n",
       "dtype: object"
      ]
     },
     "execution_count": 39,
     "metadata": {},
     "output_type": "execute_result"
    }
   ],
   "source": [
    "liquor_data_complete.dtypes"
   ]
  },
  {
   "cell_type": "code",
   "execution_count": 40,
   "id": "2cf48844",
   "metadata": {},
   "outputs": [
    {
     "data": {
      "text/html": [
       "<div>\n",
       "<style scoped>\n",
       "    .dataframe tbody tr th:only-of-type {\n",
       "        vertical-align: middle;\n",
       "    }\n",
       "\n",
       "    .dataframe tbody tr th {\n",
       "        vertical-align: top;\n",
       "    }\n",
       "\n",
       "    .dataframe thead th {\n",
       "        text-align: right;\n",
       "    }\n",
       "</style>\n",
       "<table border=\"1\" class=\"dataframe\">\n",
       "  <thead>\n",
       "    <tr style=\"text-align: right;\">\n",
       "      <th></th>\n",
       "      <th>date</th>\n",
       "      <th>store_number</th>\n",
       "      <th>category</th>\n",
       "      <th>vendor_number</th>\n",
       "      <th>pack</th>\n",
       "      <th>bottle_volume_ml</th>\n",
       "      <th>state_bottle_cost</th>\n",
       "      <th>state_bottle_retail</th>\n",
       "      <th>bottles_sold</th>\n",
       "      <th>sale_dollars</th>\n",
       "      <th>volume_sold_liters</th>\n",
       "      <th>volume_sold_gallons</th>\n",
       "    </tr>\n",
       "  </thead>\n",
       "  <tbody>\n",
       "    <tr>\n",
       "      <th>count</th>\n",
       "      <td>12537545</td>\n",
       "      <td>1.253754e+07</td>\n",
       "      <td>1.253754e+07</td>\n",
       "      <td>1.253754e+07</td>\n",
       "      <td>1.253754e+07</td>\n",
       "      <td>1.253754e+07</td>\n",
       "      <td>1.253754e+07</td>\n",
       "      <td>1.253754e+07</td>\n",
       "      <td>1.253754e+07</td>\n",
       "      <td>1.253754e+07</td>\n",
       "      <td>1.253754e+07</td>\n",
       "      <td>1.253754e+07</td>\n",
       "    </tr>\n",
       "    <tr>\n",
       "      <th>mean</th>\n",
       "      <td>2020-07-26 00:08:30.314642432</td>\n",
       "      <td>4.040913e+03</td>\n",
       "      <td>1.054603e+06</td>\n",
       "      <td>2.784460e+02</td>\n",
       "      <td>1.215107e+01</td>\n",
       "      <td>8.495272e+02</td>\n",
       "      <td>1.100411e+01</td>\n",
       "      <td>1.650806e+01</td>\n",
       "      <td>1.146606e+01</td>\n",
       "      <td>1.544963e+02</td>\n",
       "      <td>9.310477e+00</td>\n",
       "      <td>2.454630e+00</td>\n",
       "    </tr>\n",
       "    <tr>\n",
       "      <th>min</th>\n",
       "      <td>2018-01-02 00:00:00</td>\n",
       "      <td>2.106000e+03</td>\n",
       "      <td>1.011000e+06</td>\n",
       "      <td>1.000000e+01</td>\n",
       "      <td>1.000000e+00</td>\n",
       "      <td>2.000000e+01</td>\n",
       "      <td>3.300000e-01</td>\n",
       "      <td>5.000000e-01</td>\n",
       "      <td>-3.600000e+02</td>\n",
       "      <td>-9.720000e+03</td>\n",
       "      <td>-6.300000e+02</td>\n",
       "      <td>-1.664200e+02</td>\n",
       "    </tr>\n",
       "    <tr>\n",
       "      <th>25%</th>\n",
       "      <td>2019-05-08 00:00:00</td>\n",
       "      <td>2.633000e+03</td>\n",
       "      <td>1.012200e+06</td>\n",
       "      <td>2.050000e+02</td>\n",
       "      <td>6.000000e+00</td>\n",
       "      <td>6.000000e+02</td>\n",
       "      <td>5.780000e+00</td>\n",
       "      <td>8.670000e+00</td>\n",
       "      <td>3.000000e+00</td>\n",
       "      <td>3.825000e+01</td>\n",
       "      <td>1.500000e+00</td>\n",
       "      <td>3.900000e-01</td>\n",
       "    </tr>\n",
       "    <tr>\n",
       "      <th>50%</th>\n",
       "      <td>2020-08-06 00:00:00</td>\n",
       "      <td>4.106000e+03</td>\n",
       "      <td>1.031200e+06</td>\n",
       "      <td>2.600000e+02</td>\n",
       "      <td>1.200000e+01</td>\n",
       "      <td>7.500000e+02</td>\n",
       "      <td>8.740000e+00</td>\n",
       "      <td>1.311000e+01</td>\n",
       "      <td>6.000000e+00</td>\n",
       "      <td>8.100000e+01</td>\n",
       "      <td>4.800000e+00</td>\n",
       "      <td>1.260000e+00</td>\n",
       "    </tr>\n",
       "    <tr>\n",
       "      <th>75%</th>\n",
       "      <td>2021-10-19 00:00:00</td>\n",
       "      <td>5.113000e+03</td>\n",
       "      <td>1.062500e+06</td>\n",
       "      <td>3.950000e+02</td>\n",
       "      <td>1.200000e+01</td>\n",
       "      <td>1.000000e+03</td>\n",
       "      <td>1.350000e+01</td>\n",
       "      <td>2.025000e+01</td>\n",
       "      <td>1.200000e+01</td>\n",
       "      <td>1.616400e+02</td>\n",
       "      <td>1.050000e+01</td>\n",
       "      <td>2.770000e+00</td>\n",
       "    </tr>\n",
       "    <tr>\n",
       "      <th>max</th>\n",
       "      <td>2022-12-30 00:00:00</td>\n",
       "      <td>1.010600e+04</td>\n",
       "      <td>1.901200e+06</td>\n",
       "      <td>9.780000e+02</td>\n",
       "      <td>1.200000e+02</td>\n",
       "      <td>6.000000e+03</td>\n",
       "      <td>1.843600e+04</td>\n",
       "      <td>2.765400e+04</td>\n",
       "      <td>1.320000e+04</td>\n",
       "      <td>2.795573e+05</td>\n",
       "      <td>1.320000e+04</td>\n",
       "      <td>3.487070e+03</td>\n",
       "    </tr>\n",
       "    <tr>\n",
       "      <th>std</th>\n",
       "      <td>NaN</td>\n",
       "      <td>1.248485e+03</td>\n",
       "      <td>9.984452e+04</td>\n",
       "      <td>1.429620e+02</td>\n",
       "      <td>7.980532e+00</td>\n",
       "      <td>5.243446e+02</td>\n",
       "      <td>1.204841e+01</td>\n",
       "      <td>1.807231e+01</td>\n",
       "      <td>3.325119e+01</td>\n",
       "      <td>5.443291e+02</td>\n",
       "      <td>3.938240e+01</td>\n",
       "      <td>1.040391e+01</td>\n",
       "    </tr>\n",
       "  </tbody>\n",
       "</table>\n",
       "</div>"
      ],
      "text/plain": [
       "                                date  store_number      category  \\\n",
       "count                       12537545  1.253754e+07  1.253754e+07   \n",
       "mean   2020-07-26 00:08:30.314642432  4.040913e+03  1.054603e+06   \n",
       "min              2018-01-02 00:00:00  2.106000e+03  1.011000e+06   \n",
       "25%              2019-05-08 00:00:00  2.633000e+03  1.012200e+06   \n",
       "50%              2020-08-06 00:00:00  4.106000e+03  1.031200e+06   \n",
       "75%              2021-10-19 00:00:00  5.113000e+03  1.062500e+06   \n",
       "max              2022-12-30 00:00:00  1.010600e+04  1.901200e+06   \n",
       "std                              NaN  1.248485e+03  9.984452e+04   \n",
       "\n",
       "       vendor_number          pack  bottle_volume_ml  state_bottle_cost  \\\n",
       "count   1.253754e+07  1.253754e+07      1.253754e+07       1.253754e+07   \n",
       "mean    2.784460e+02  1.215107e+01      8.495272e+02       1.100411e+01   \n",
       "min     1.000000e+01  1.000000e+00      2.000000e+01       3.300000e-01   \n",
       "25%     2.050000e+02  6.000000e+00      6.000000e+02       5.780000e+00   \n",
       "50%     2.600000e+02  1.200000e+01      7.500000e+02       8.740000e+00   \n",
       "75%     3.950000e+02  1.200000e+01      1.000000e+03       1.350000e+01   \n",
       "max     9.780000e+02  1.200000e+02      6.000000e+03       1.843600e+04   \n",
       "std     1.429620e+02  7.980532e+00      5.243446e+02       1.204841e+01   \n",
       "\n",
       "       state_bottle_retail  bottles_sold  sale_dollars  volume_sold_liters  \\\n",
       "count         1.253754e+07  1.253754e+07  1.253754e+07        1.253754e+07   \n",
       "mean          1.650806e+01  1.146606e+01  1.544963e+02        9.310477e+00   \n",
       "min           5.000000e-01 -3.600000e+02 -9.720000e+03       -6.300000e+02   \n",
       "25%           8.670000e+00  3.000000e+00  3.825000e+01        1.500000e+00   \n",
       "50%           1.311000e+01  6.000000e+00  8.100000e+01        4.800000e+00   \n",
       "75%           2.025000e+01  1.200000e+01  1.616400e+02        1.050000e+01   \n",
       "max           2.765400e+04  1.320000e+04  2.795573e+05        1.320000e+04   \n",
       "std           1.807231e+01  3.325119e+01  5.443291e+02        3.938240e+01   \n",
       "\n",
       "       volume_sold_gallons  \n",
       "count         1.253754e+07  \n",
       "mean          2.454630e+00  \n",
       "min          -1.664200e+02  \n",
       "25%           3.900000e-01  \n",
       "50%           1.260000e+00  \n",
       "75%           2.770000e+00  \n",
       "max           3.487070e+03  \n",
       "std           1.040391e+01  "
      ]
     },
     "execution_count": 40,
     "metadata": {},
     "output_type": "execute_result"
    }
   ],
   "source": [
    "liquor_data_complete.describe()"
   ]
  },
  {
   "cell_type": "code",
   "execution_count": 42,
   "id": "3f452e07",
   "metadata": {},
   "outputs": [],
   "source": [
    "# Correcting data types\n",
    "convert_dict = {'invoice_number': str,\n",
    "                'store_number': str,\n",
    "                'store_name': str,\n",
    "                'address': str,\n",
    "                'city': str,\n",
    "                'zip_code': str,\n",
    "                'county': str,\n",
    "                'category': str,\n",
    "                'category_name': str,\n",
    "                'vendor_number': str,\n",
    "                'vendor_name': str,\n",
    "                'item_number': str,\n",
    "                'item_description': str                \n",
    "                }"
   ]
  },
  {
   "cell_type": "code",
   "execution_count": 43,
   "id": "2289bcef",
   "metadata": {},
   "outputs": [],
   "source": [
    "liquor_data_complete = liquor_data_complete.astype(convert_dict)"
   ]
  },
  {
   "cell_type": "code",
   "execution_count": 44,
   "id": "b946b3aa",
   "metadata": {},
   "outputs": [
    {
     "data": {
      "text/plain": [
       "invoice_number                 object\n",
       "date                   datetime64[ns]\n",
       "store_number                   object\n",
       "store_name                     object\n",
       "address                        object\n",
       "city                           object\n",
       "zip_code                       object\n",
       "county                         object\n",
       "category                       object\n",
       "category_name                  object\n",
       "vendor_number                  object\n",
       "vendor_name                    object\n",
       "item_number                    object\n",
       "item_description               object\n",
       "pack                            int64\n",
       "bottle_volume_ml                int64\n",
       "state_bottle_cost             float64\n",
       "state_bottle_retail           float64\n",
       "bottles_sold                    int64\n",
       "sale_dollars                  float64\n",
       "volume_sold_liters            float64\n",
       "volume_sold_gallons           float64\n",
       "dtype: object"
      ]
     },
     "execution_count": 44,
     "metadata": {},
     "output_type": "execute_result"
    }
   ],
   "source": [
    "liquor_data_complete.dtypes"
   ]
  },
  {
   "cell_type": "code",
   "execution_count": 49,
   "id": "0b81a59e",
   "metadata": {},
   "outputs": [],
   "source": [
    "# Converting non-numerical number identifiers (store number, category, vendor number, item number) to string\n",
    "liquor_data_complete['store_number'] = liquor_data_complete['store_number'].astype('string')"
   ]
  },
  {
   "cell_type": "code",
   "execution_count": 50,
   "id": "a4960fe3",
   "metadata": {},
   "outputs": [
    {
     "data": {
      "text/plain": [
       "invoice_number                 object\n",
       "date                   datetime64[ns]\n",
       "store_number           string[python]\n",
       "store_name                     object\n",
       "address                        object\n",
       "city                           object\n",
       "zip_code                       object\n",
       "county                         object\n",
       "category                       object\n",
       "category_name                  object\n",
       "vendor_number                  object\n",
       "vendor_name                    object\n",
       "item_number                    object\n",
       "item_description               object\n",
       "pack                            int64\n",
       "bottle_volume_ml                int64\n",
       "state_bottle_cost             float64\n",
       "state_bottle_retail           float64\n",
       "bottles_sold                    int64\n",
       "sale_dollars                  float64\n",
       "volume_sold_liters            float64\n",
       "volume_sold_gallons           float64\n",
       "dtype: object"
      ]
     },
     "execution_count": 50,
     "metadata": {},
     "output_type": "execute_result"
    }
   ],
   "source": [
    "liquor_data_complete.dtypes"
   ]
  },
  {
   "cell_type": "code",
   "execution_count": 51,
   "id": "5846d5e1",
   "metadata": {},
   "outputs": [],
   "source": [
    "liquor_data_complete['category'] = liquor_data_complete['category'].astype('string')"
   ]
  },
  {
   "cell_type": "code",
   "execution_count": 52,
   "id": "c3aedbc7",
   "metadata": {},
   "outputs": [],
   "source": [
    "liquor_data_complete['vendor_number'] = liquor_data_complete['vendor_number'].astype('string')"
   ]
  },
  {
   "cell_type": "code",
   "execution_count": 53,
   "id": "093922a2",
   "metadata": {},
   "outputs": [],
   "source": [
    "liquor_data_complete['item_number'] = liquor_data_complete['item_number'].astype('string')"
   ]
  },
  {
   "cell_type": "code",
   "execution_count": 54,
   "id": "6cfb898d",
   "metadata": {},
   "outputs": [
    {
     "data": {
      "text/plain": [
       "invoice_number                 object\n",
       "date                   datetime64[ns]\n",
       "store_number           string[python]\n",
       "store_name                     object\n",
       "address                        object\n",
       "city                           object\n",
       "zip_code                       object\n",
       "county                         object\n",
       "category               string[python]\n",
       "category_name                  object\n",
       "vendor_number          string[python]\n",
       "vendor_name                    object\n",
       "item_number            string[python]\n",
       "item_description               object\n",
       "pack                            int64\n",
       "bottle_volume_ml                int64\n",
       "state_bottle_cost             float64\n",
       "state_bottle_retail           float64\n",
       "bottles_sold                    int64\n",
       "sale_dollars                  float64\n",
       "volume_sold_liters            float64\n",
       "volume_sold_gallons           float64\n",
       "dtype: object"
      ]
     },
     "execution_count": 54,
     "metadata": {},
     "output_type": "execute_result"
    }
   ],
   "source": [
    "liquor_data_complete.dtypes"
   ]
  },
  {
   "cell_type": "code",
   "execution_count": 55,
   "id": "6ce0f3d6",
   "metadata": {},
   "outputs": [],
   "source": [
    "# Removing commas from address column\n",
    "liquor_data_complete['address'] = liquor_data_complete['address'].str.replace(\",\",\" \")"
   ]
  },
  {
   "cell_type": "code",
   "execution_count": 56,
   "id": "ed3615a5",
   "metadata": {},
   "outputs": [
    {
     "data": {
      "text/html": [
       "<div>\n",
       "<style scoped>\n",
       "    .dataframe tbody tr th:only-of-type {\n",
       "        vertical-align: middle;\n",
       "    }\n",
       "\n",
       "    .dataframe tbody tr th {\n",
       "        vertical-align: top;\n",
       "    }\n",
       "\n",
       "    .dataframe thead th {\n",
       "        text-align: right;\n",
       "    }\n",
       "</style>\n",
       "<table border=\"1\" class=\"dataframe\">\n",
       "  <thead>\n",
       "    <tr style=\"text-align: right;\">\n",
       "      <th></th>\n",
       "      <th>invoice_number</th>\n",
       "      <th>date</th>\n",
       "      <th>store_number</th>\n",
       "      <th>store_name</th>\n",
       "      <th>address</th>\n",
       "      <th>city</th>\n",
       "      <th>zip_code</th>\n",
       "      <th>county</th>\n",
       "      <th>category</th>\n",
       "      <th>category_name</th>\n",
       "      <th>...</th>\n",
       "      <th>item_number</th>\n",
       "      <th>item_description</th>\n",
       "      <th>pack</th>\n",
       "      <th>bottle_volume_ml</th>\n",
       "      <th>state_bottle_cost</th>\n",
       "      <th>state_bottle_retail</th>\n",
       "      <th>bottles_sold</th>\n",
       "      <th>sale_dollars</th>\n",
       "      <th>volume_sold_liters</th>\n",
       "      <th>volume_sold_gallons</th>\n",
       "    </tr>\n",
       "  </thead>\n",
       "  <tbody>\n",
       "    <tr>\n",
       "      <th>12525824</th>\n",
       "      <td>INV-14279100033</td>\n",
       "      <td>2018-09-06</td>\n",
       "      <td>5251</td>\n",
       "      <td>NORTHSIDE LIQUOR</td>\n",
       "      <td>1303  NORTH FEDERAL</td>\n",
       "      <td>MASON CITY</td>\n",
       "      <td>50401</td>\n",
       "      <td>CERRO GORDO</td>\n",
       "      <td>1062500.0</td>\n",
       "      <td>FLAVORED RUM</td>\n",
       "      <td>...</td>\n",
       "      <td>43086</td>\n",
       "      <td>BACARDI COCO</td>\n",
       "      <td>12</td>\n",
       "      <td>750</td>\n",
       "      <td>8.25</td>\n",
       "      <td>12.38</td>\n",
       "      <td>2</td>\n",
       "      <td>24.76</td>\n",
       "      <td>1.5</td>\n",
       "      <td>0.39</td>\n",
       "    </tr>\n",
       "  </tbody>\n",
       "</table>\n",
       "<p>1 rows × 22 columns</p>\n",
       "</div>"
      ],
      "text/plain": [
       "           invoice_number       date store_number        store_name  \\\n",
       "12525824  INV-14279100033 2018-09-06         5251  NORTHSIDE LIQUOR   \n",
       "\n",
       "                      address        city zip_code       county   category  \\\n",
       "12525824  1303  NORTH FEDERAL  MASON CITY    50401  CERRO GORDO  1062500.0   \n",
       "\n",
       "         category_name  ... item_number item_description pack  \\\n",
       "12525824  FLAVORED RUM  ...       43086     BACARDI COCO   12   \n",
       "\n",
       "         bottle_volume_ml  state_bottle_cost  state_bottle_retail  \\\n",
       "12525824              750               8.25                12.38   \n",
       "\n",
       "          bottles_sold  sale_dollars  volume_sold_liters  volume_sold_gallons  \n",
       "12525824             2         24.76                 1.5                 0.39  \n",
       "\n",
       "[1 rows x 22 columns]"
      ]
     },
     "execution_count": 56,
     "metadata": {},
     "output_type": "execute_result"
    }
   ],
   "source": [
    "# Checking commas\n",
    "liquor_data_complete.loc[liquor_data_complete['invoice_number'] == 'INV-14279100033']"
   ]
  },
  {
   "cell_type": "code",
   "execution_count": 57,
   "id": "e5254abf",
   "metadata": {},
   "outputs": [],
   "source": [
    "# Correcting misspelled city\n",
    "liquor_data_complete['city'] = liquor_data_complete['city'].str.replace(\"OTUMWA\",\"OTTUMWA\")"
   ]
  },
  {
   "cell_type": "code",
   "execution_count": 58,
   "id": "6a0a1b82",
   "metadata": {},
   "outputs": [
    {
     "data": {
      "text/html": [
       "<div>\n",
       "<style scoped>\n",
       "    .dataframe tbody tr th:only-of-type {\n",
       "        vertical-align: middle;\n",
       "    }\n",
       "\n",
       "    .dataframe tbody tr th {\n",
       "        vertical-align: top;\n",
       "    }\n",
       "\n",
       "    .dataframe thead th {\n",
       "        text-align: right;\n",
       "    }\n",
       "</style>\n",
       "<table border=\"1\" class=\"dataframe\">\n",
       "  <thead>\n",
       "    <tr style=\"text-align: right;\">\n",
       "      <th></th>\n",
       "      <th>invoice_number</th>\n",
       "      <th>date</th>\n",
       "      <th>store_number</th>\n",
       "      <th>store_name</th>\n",
       "      <th>address</th>\n",
       "      <th>city</th>\n",
       "      <th>zip_code</th>\n",
       "      <th>county</th>\n",
       "      <th>category</th>\n",
       "      <th>category_name</th>\n",
       "      <th>...</th>\n",
       "      <th>item_number</th>\n",
       "      <th>item_description</th>\n",
       "      <th>pack</th>\n",
       "      <th>bottle_volume_ml</th>\n",
       "      <th>state_bottle_cost</th>\n",
       "      <th>state_bottle_retail</th>\n",
       "      <th>bottles_sold</th>\n",
       "      <th>sale_dollars</th>\n",
       "      <th>volume_sold_liters</th>\n",
       "      <th>volume_sold_gallons</th>\n",
       "    </tr>\n",
       "  </thead>\n",
       "  <tbody>\n",
       "  </tbody>\n",
       "</table>\n",
       "<p>0 rows × 22 columns</p>\n",
       "</div>"
      ],
      "text/plain": [
       "Empty DataFrame\n",
       "Columns: [invoice_number, date, store_number, store_name, address, city, zip_code, county, category, category_name, vendor_number, vendor_name, item_number, item_description, pack, bottle_volume_ml, state_bottle_cost, state_bottle_retail, bottles_sold, sale_dollars, volume_sold_liters, volume_sold_gallons]\n",
       "Index: []\n",
       "\n",
       "[0 rows x 22 columns]"
      ]
     },
     "execution_count": 58,
     "metadata": {},
     "output_type": "execute_result"
    }
   ],
   "source": [
    "# Checking city error\n",
    "liquor_data_complete.loc[liquor_data_complete['city'] == 'OTUMWA']"
   ]
  },
  {
   "cell_type": "code",
   "execution_count": 59,
   "id": "47ab4037",
   "metadata": {},
   "outputs": [],
   "source": [
    "# Correcting misspelled city\n",
    "liquor_data_complete['city'] = liquor_data_complete['city'].str.replace(\"ARNOLD'S PARK\",\"ARNOLDS PARK\")"
   ]
  },
  {
   "cell_type": "code",
   "execution_count": 60,
   "id": "bd8850c5",
   "metadata": {},
   "outputs": [
    {
     "data": {
      "text/html": [
       "<div>\n",
       "<style scoped>\n",
       "    .dataframe tbody tr th:only-of-type {\n",
       "        vertical-align: middle;\n",
       "    }\n",
       "\n",
       "    .dataframe tbody tr th {\n",
       "        vertical-align: top;\n",
       "    }\n",
       "\n",
       "    .dataframe thead th {\n",
       "        text-align: right;\n",
       "    }\n",
       "</style>\n",
       "<table border=\"1\" class=\"dataframe\">\n",
       "  <thead>\n",
       "    <tr style=\"text-align: right;\">\n",
       "      <th></th>\n",
       "      <th>invoice_number</th>\n",
       "      <th>date</th>\n",
       "      <th>store_number</th>\n",
       "      <th>store_name</th>\n",
       "      <th>address</th>\n",
       "      <th>city</th>\n",
       "      <th>zip_code</th>\n",
       "      <th>county</th>\n",
       "      <th>category</th>\n",
       "      <th>category_name</th>\n",
       "      <th>...</th>\n",
       "      <th>item_number</th>\n",
       "      <th>item_description</th>\n",
       "      <th>pack</th>\n",
       "      <th>bottle_volume_ml</th>\n",
       "      <th>state_bottle_cost</th>\n",
       "      <th>state_bottle_retail</th>\n",
       "      <th>bottles_sold</th>\n",
       "      <th>sale_dollars</th>\n",
       "      <th>volume_sold_liters</th>\n",
       "      <th>volume_sold_gallons</th>\n",
       "    </tr>\n",
       "  </thead>\n",
       "  <tbody>\n",
       "  </tbody>\n",
       "</table>\n",
       "<p>0 rows × 22 columns</p>\n",
       "</div>"
      ],
      "text/plain": [
       "Empty DataFrame\n",
       "Columns: [invoice_number, date, store_number, store_name, address, city, zip_code, county, category, category_name, vendor_number, vendor_name, item_number, item_description, pack, bottle_volume_ml, state_bottle_cost, state_bottle_retail, bottles_sold, sale_dollars, volume_sold_liters, volume_sold_gallons]\n",
       "Index: []\n",
       "\n",
       "[0 rows x 22 columns]"
      ]
     },
     "execution_count": 60,
     "metadata": {},
     "output_type": "execute_result"
    }
   ],
   "source": [
    "# Checking city error\n",
    "liquor_data_complete.loc[liquor_data_complete['city'] == \"ARNOLD'S PARK\"]"
   ]
  },
  {
   "cell_type": "code",
   "execution_count": 62,
   "id": "d4069579",
   "metadata": {},
   "outputs": [
    {
     "data": {
      "text/plain": [
       "count                         12537545\n",
       "mean     2020-07-26 00:08:30.314642432\n",
       "min                2018-01-02 00:00:00\n",
       "25%                2019-05-08 00:00:00\n",
       "50%                2020-08-06 00:00:00\n",
       "75%                2021-10-19 00:00:00\n",
       "max                2022-12-30 00:00:00\n",
       "Name: date, dtype: object"
      ]
     },
     "execution_count": 62,
     "metadata": {},
     "output_type": "execute_result"
    }
   ],
   "source": [
    "# Verifying dates\n",
    "liquor_data_complete['date'].describe()"
   ]
  },
  {
   "cell_type": "code",
   "execution_count": 63,
   "id": "eed1bd11",
   "metadata": {},
   "outputs": [],
   "source": [
    "# Exporting complete cleaned dataframe\n",
    "liquor_data_complete.to_pickle(os.path.join(path, '01 - Data', 'Cleaned', 'iowa_liquor_data_complete.pkl'))"
   ]
  },
  {
   "cell_type": "code",
   "execution_count": null,
   "id": "08948c1f",
   "metadata": {},
   "outputs": [],
   "source": []
  }
 ],
 "metadata": {
  "kernelspec": {
   "display_name": "Python 3 (ipykernel)",
   "language": "python",
   "name": "python3"
  },
  "language_info": {
   "codemirror_mode": {
    "name": "ipython",
    "version": 3
   },
   "file_extension": ".py",
   "mimetype": "text/x-python",
   "name": "python",
   "nbconvert_exporter": "python",
   "pygments_lexer": "ipython3",
   "version": "3.11.5"
  }
 },
 "nbformat": 4,
 "nbformat_minor": 5
}
