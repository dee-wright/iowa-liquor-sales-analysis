{
 "cells": [
  {
   "cell_type": "markdown",
   "id": "e52fffa5",
   "metadata": {},
   "source": [
    "# TOC\n",
    "1. Import Libraries & Data     \n",
    "2. Inspecting original data   \n",
    "3. Converting date column to datetime format   \n",
    "4. Filtering data to scope of project (Jan 1 2018 through December 31 2022)   \n",
    "5. Saving filtered data to pkl   \n",
    "\n"
   ]
  },
  {
   "cell_type": "code",
   "execution_count": 1,
   "id": "1f2b1b7e",
   "metadata": {},
   "outputs": [],
   "source": [
    "# Importing libraries\n",
    "import pandas as pd\n",
    "import numpy as np\n",
    "import os\n",
    "import datetime"
   ]
  },
  {
   "cell_type": "code",
   "execution_count": 2,
   "id": "f215996a",
   "metadata": {},
   "outputs": [],
   "source": [
    "# Importing original data\n",
    "path = r'C:\\Users\\Ryzen RGB Madness!!!\\Iowa Liquor Sales Analysis'"
   ]
  },
  {
   "cell_type": "code",
   "execution_count": 3,
   "id": "a4dad65b",
   "metadata": {},
   "outputs": [
    {
     "name": "stderr",
     "output_type": "stream",
     "text": [
      "C:\\Users\\Ryzen RGB Madness!!!\\AppData\\Local\\Temp\\ipykernel_16280\\1727530366.py:1: DtypeWarning: Columns (6,14) have mixed types. Specify dtype option on import or set low_memory=False.\n",
      "  orig_data = pd.read_csv(os.path.join(path, '01 - Data', 'Original', 'Iowa_Liquor_Sales_20231118.csv'))\n"
     ]
    }
   ],
   "source": [
    "orig_data = pd.read_csv(os.path.join(path, '01 - Data', 'Original', 'Iowa_Liquor_Sales_20231118.csv'))"
   ]
  },
  {
   "cell_type": "code",
   "execution_count": 5,
   "id": "51fc2c08",
   "metadata": {},
   "outputs": [
    {
     "data": {
      "text/plain": [
       "(27711028, 24)"
      ]
     },
     "execution_count": 5,
     "metadata": {},
     "output_type": "execute_result"
    }
   ],
   "source": [
    "# Investigating original data\n",
    "orig_data.shape"
   ]
  },
  {
   "cell_type": "code",
   "execution_count": 6,
   "id": "a22c0aaf",
   "metadata": {},
   "outputs": [
    {
     "data": {
      "text/plain": [
       "Invoice/Item Number       object\n",
       "Date                      object\n",
       "Store Number               int64\n",
       "Store Name                object\n",
       "Address                   object\n",
       "City                      object\n",
       "Zip Code                  object\n",
       "Store Location            object\n",
       "County Number            float64\n",
       "County                    object\n",
       "Category                 float64\n",
       "Category Name             object\n",
       "Vendor Number            float64\n",
       "Vendor Name               object\n",
       "Item Number               object\n",
       "Item Description          object\n",
       "Pack                       int64\n",
       "Bottle Volume (ml)         int64\n",
       "State Bottle Cost        float64\n",
       "State Bottle Retail      float64\n",
       "Bottles Sold               int64\n",
       "Sale (Dollars)           float64\n",
       "Volume Sold (Liters)     float64\n",
       "Volume Sold (Gallons)    float64\n",
       "dtype: object"
      ]
     },
     "execution_count": 6,
     "metadata": {},
     "output_type": "execute_result"
    }
   ],
   "source": [
    "orig_data.dtypes"
   ]
  },
  {
   "cell_type": "code",
   "execution_count": 35,
   "id": "d414dad5",
   "metadata": {},
   "outputs": [],
   "source": [
    "# Converting date column to datetime type\n",
    "orig_data['date'] = pd.to_datetime(orig_data['date'], format=\"%m/%d/%Y\")"
   ]
  },
  {
   "cell_type": "code",
   "execution_count": 36,
   "id": "d0069661",
   "metadata": {},
   "outputs": [
    {
     "data": {
      "text/plain": [
       "invoice_number                 object\n",
       "date                   datetime64[ns]\n",
       "store_number                    int64\n",
       "store_name                     object\n",
       "address                        object\n",
       "city                           object\n",
       "zip_code                       object\n",
       "store_location                 object\n",
       "county_num                    float64\n",
       "county                         object\n",
       "category                      float64\n",
       "category_name                  object\n",
       "vendor_number                 float64\n",
       "vendor_name                    object\n",
       "item_number                    object\n",
       "item_description               object\n",
       "pack                            int64\n",
       "bottle_volume_ml                int64\n",
       "state_bottle_cost             float64\n",
       "state_bottle_retail           float64\n",
       "bottles_sold                    int64\n",
       "sale_dollars                  float64\n",
       "volume_sold_liters            float64\n",
       "volume_sold_gallons           float64\n",
       "dtype: object"
      ]
     },
     "execution_count": 36,
     "metadata": {},
     "output_type": "execute_result"
    }
   ],
   "source": [
    "orig_data.dtypes"
   ]
  },
  {
   "cell_type": "code",
   "execution_count": 37,
   "id": "4494ab2f",
   "metadata": {},
   "outputs": [
    {
     "data": {
      "text/html": [
       "<div>\n",
       "<style scoped>\n",
       "    .dataframe tbody tr th:only-of-type {\n",
       "        vertical-align: middle;\n",
       "    }\n",
       "\n",
       "    .dataframe tbody tr th {\n",
       "        vertical-align: top;\n",
       "    }\n",
       "\n",
       "    .dataframe thead th {\n",
       "        text-align: right;\n",
       "    }\n",
       "</style>\n",
       "<table border=\"1\" class=\"dataframe\">\n",
       "  <thead>\n",
       "    <tr style=\"text-align: right;\">\n",
       "      <th></th>\n",
       "      <th>invoice_number</th>\n",
       "      <th>date</th>\n",
       "      <th>store_number</th>\n",
       "      <th>store_name</th>\n",
       "      <th>address</th>\n",
       "      <th>city</th>\n",
       "      <th>zip_code</th>\n",
       "      <th>store_location</th>\n",
       "      <th>county_num</th>\n",
       "      <th>county</th>\n",
       "      <th>...</th>\n",
       "      <th>item_number</th>\n",
       "      <th>item_description</th>\n",
       "      <th>pack</th>\n",
       "      <th>bottle_volume_ml</th>\n",
       "      <th>state_bottle_cost</th>\n",
       "      <th>state_bottle_retail</th>\n",
       "      <th>bottles_sold</th>\n",
       "      <th>sale_dollars</th>\n",
       "      <th>volume_sold_liters</th>\n",
       "      <th>volume_sold_gallons</th>\n",
       "    </tr>\n",
       "  </thead>\n",
       "  <tbody>\n",
       "    <tr>\n",
       "      <th>0</th>\n",
       "      <td>S07444000056</td>\n",
       "      <td>2012-08-30</td>\n",
       "      <td>2509</td>\n",
       "      <td>HY-VEE / DRUGTOWN #1 / CEDAR RAPIDS</td>\n",
       "      <td>1520 6TH ST SW</td>\n",
       "      <td>CEDAR RAPIDS</td>\n",
       "      <td>52404</td>\n",
       "      <td>POINT (-91.67706 41.962419)</td>\n",
       "      <td>57.0</td>\n",
       "      <td>LINN</td>\n",
       "      <td>...</td>\n",
       "      <td>22151</td>\n",
       "      <td>WILD TURKEY 101 MINI</td>\n",
       "      <td>12</td>\n",
       "      <td>500</td>\n",
       "      <td>8.52</td>\n",
       "      <td>12.79</td>\n",
       "      <td>1</td>\n",
       "      <td>12.79</td>\n",
       "      <td>0.50</td>\n",
       "      <td>0.13</td>\n",
       "    </tr>\n",
       "    <tr>\n",
       "      <th>1</th>\n",
       "      <td>S09571400010</td>\n",
       "      <td>2012-12-19</td>\n",
       "      <td>4187</td>\n",
       "      <td>JENSEN LIQUOR NORTH</td>\n",
       "      <td>109  5TH ST</td>\n",
       "      <td>SIBLEY</td>\n",
       "      <td>51249</td>\n",
       "      <td>POINT (-95.759943 43.403935)</td>\n",
       "      <td>72.0</td>\n",
       "      <td>OSCEOLA</td>\n",
       "      <td>...</td>\n",
       "      <td>11786</td>\n",
       "      <td>BLACK VELVET TRAVELER</td>\n",
       "      <td>12</td>\n",
       "      <td>750</td>\n",
       "      <td>5.23</td>\n",
       "      <td>7.84</td>\n",
       "      <td>12</td>\n",
       "      <td>94.08</td>\n",
       "      <td>9.00</td>\n",
       "      <td>2.38</td>\n",
       "    </tr>\n",
       "    <tr>\n",
       "      <th>2</th>\n",
       "      <td>S08965800094</td>\n",
       "      <td>2012-11-15</td>\n",
       "      <td>2635</td>\n",
       "      <td>HY-VEE #4 / DAVENPORT</td>\n",
       "      <td>4064 E 53RD ST</td>\n",
       "      <td>DAVENPORT</td>\n",
       "      <td>52807</td>\n",
       "      <td>POINT (-90.513769 41.574973)</td>\n",
       "      <td>82.0</td>\n",
       "      <td>SCOTT</td>\n",
       "      <td>...</td>\n",
       "      <td>50686</td>\n",
       "      <td>ST. REMY VSOP NAPOLEON BRANDY</td>\n",
       "      <td>12</td>\n",
       "      <td>750</td>\n",
       "      <td>6.99</td>\n",
       "      <td>10.49</td>\n",
       "      <td>4</td>\n",
       "      <td>41.96</td>\n",
       "      <td>3.00</td>\n",
       "      <td>0.79</td>\n",
       "    </tr>\n",
       "    <tr>\n",
       "      <th>3</th>\n",
       "      <td>S03749500062</td>\n",
       "      <td>2012-01-25</td>\n",
       "      <td>3704</td>\n",
       "      <td>CELTICS BEVERAGE COMPANY</td>\n",
       "      <td>1122 BROADWAY</td>\n",
       "      <td>EMMETSBURG</td>\n",
       "      <td>50536</td>\n",
       "      <td>POINT (-94.678807 43.10937)</td>\n",
       "      <td>74.0</td>\n",
       "      <td>PALO ALTO</td>\n",
       "      <td>...</td>\n",
       "      <td>4798</td>\n",
       "      <td>CUTTY SARK SCOTCH</td>\n",
       "      <td>6</td>\n",
       "      <td>1750</td>\n",
       "      <td>23.90</td>\n",
       "      <td>35.85</td>\n",
       "      <td>2</td>\n",
       "      <td>71.70</td>\n",
       "      <td>3.50</td>\n",
       "      <td>0.92</td>\n",
       "    </tr>\n",
       "    <tr>\n",
       "      <th>4</th>\n",
       "      <td>S17509200029</td>\n",
       "      <td>2014-02-20</td>\n",
       "      <td>4935</td>\n",
       "      <td>ALI'S LIQUOR</td>\n",
       "      <td>1117 E 4TH ST</td>\n",
       "      <td>WATERLOO</td>\n",
       "      <td>50703</td>\n",
       "      <td>POINT (-92.332774 42.507683)</td>\n",
       "      <td>7.0</td>\n",
       "      <td>BLACK HAWK</td>\n",
       "      <td>...</td>\n",
       "      <td>48154</td>\n",
       "      <td>HENNESSY BLACK</td>\n",
       "      <td>12</td>\n",
       "      <td>375</td>\n",
       "      <td>11.99</td>\n",
       "      <td>17.99</td>\n",
       "      <td>2</td>\n",
       "      <td>35.98</td>\n",
       "      <td>0.75</td>\n",
       "      <td>0.20</td>\n",
       "    </tr>\n",
       "  </tbody>\n",
       "</table>\n",
       "<p>5 rows × 24 columns</p>\n",
       "</div>"
      ],
      "text/plain": [
       "  invoice_number       date  store_number  \\\n",
       "0   S07444000056 2012-08-30          2509   \n",
       "1   S09571400010 2012-12-19          4187   \n",
       "2   S08965800094 2012-11-15          2635   \n",
       "3   S03749500062 2012-01-25          3704   \n",
       "4   S17509200029 2014-02-20          4935   \n",
       "\n",
       "                            store_name         address          city zip_code  \\\n",
       "0  HY-VEE / DRUGTOWN #1 / CEDAR RAPIDS  1520 6TH ST SW  CEDAR RAPIDS    52404   \n",
       "1                  JENSEN LIQUOR NORTH     109  5TH ST        SIBLEY    51249   \n",
       "2                HY-VEE #4 / DAVENPORT  4064 E 53RD ST     DAVENPORT    52807   \n",
       "3             CELTICS BEVERAGE COMPANY   1122 BROADWAY    EMMETSBURG    50536   \n",
       "4                         ALI'S LIQUOR   1117 E 4TH ST      WATERLOO    50703   \n",
       "\n",
       "                 store_location  county_num      county  ...  item_number  \\\n",
       "0   POINT (-91.67706 41.962419)        57.0        LINN  ...        22151   \n",
       "1  POINT (-95.759943 43.403935)        72.0     OSCEOLA  ...        11786   \n",
       "2  POINT (-90.513769 41.574973)        82.0       SCOTT  ...        50686   \n",
       "3   POINT (-94.678807 43.10937)        74.0   PALO ALTO  ...         4798   \n",
       "4  POINT (-92.332774 42.507683)         7.0  BLACK HAWK  ...        48154   \n",
       "\n",
       "                item_description  pack bottle_volume_ml state_bottle_cost  \\\n",
       "0           WILD TURKEY 101 MINI    12              500              8.52   \n",
       "1          BLACK VELVET TRAVELER    12              750              5.23   \n",
       "2  ST. REMY VSOP NAPOLEON BRANDY    12              750              6.99   \n",
       "3              CUTTY SARK SCOTCH     6             1750             23.90   \n",
       "4                 HENNESSY BLACK    12              375             11.99   \n",
       "\n",
       "  state_bottle_retail  bottles_sold  sale_dollars  volume_sold_liters  \\\n",
       "0               12.79             1         12.79                0.50   \n",
       "1                7.84            12         94.08                9.00   \n",
       "2               10.49             4         41.96                3.00   \n",
       "3               35.85             2         71.70                3.50   \n",
       "4               17.99             2         35.98                0.75   \n",
       "\n",
       "   volume_sold_gallons  \n",
       "0                 0.13  \n",
       "1                 2.38  \n",
       "2                 0.79  \n",
       "3                 0.92  \n",
       "4                 0.20  \n",
       "\n",
       "[5 rows x 24 columns]"
      ]
     },
     "execution_count": 37,
     "metadata": {},
     "output_type": "execute_result"
    }
   ],
   "source": [
    "orig_data.head()"
   ]
  },
  {
   "cell_type": "code",
   "execution_count": 38,
   "id": "0a41434c",
   "metadata": {},
   "outputs": [
    {
     "data": {
      "text/plain": [
       "(27711028, 24)"
      ]
     },
     "execution_count": 38,
     "metadata": {},
     "output_type": "execute_result"
    }
   ],
   "source": [
    "orig_data.shape"
   ]
  },
  {
   "cell_type": "code",
   "execution_count": 39,
   "id": "cfe28b7d",
   "metadata": {},
   "outputs": [],
   "source": [
    "filtered_data = orig_data[(orig_data['date'] >= '2018-01-01') & (orig_data['date'] <= '2022-12-31')]"
   ]
  },
  {
   "cell_type": "code",
   "execution_count": 40,
   "id": "5bd9e535",
   "metadata": {},
   "outputs": [
    {
     "data": {
      "text/plain": [
       "(12537545, 24)"
      ]
     },
     "execution_count": 40,
     "metadata": {},
     "output_type": "execute_result"
    }
   ],
   "source": [
    "filtered_data.shape"
   ]
  },
  {
   "cell_type": "code",
   "execution_count": 52,
   "id": "ed444f38",
   "metadata": {},
   "outputs": [],
   "source": [
    "# Saving filtered data prior to cleaning (the original dataset crashes my computer)\n",
    "filtered_data.to_pickle(os.path.join(path, '01 - Data', 'Original', 'iowa_liquor_sales_jan18_to_dec22_orig.pkl'))"
   ]
  },
  {
   "cell_type": "code",
   "execution_count": null,
   "id": "80a7645c",
   "metadata": {},
   "outputs": [],
   "source": []
  }
 ],
 "metadata": {
  "kernelspec": {
   "display_name": "Python 3 (ipykernel)",
   "language": "python",
   "name": "python3"
  },
  "language_info": {
   "codemirror_mode": {
    "name": "ipython",
    "version": 3
   },
   "file_extension": ".py",
   "mimetype": "text/x-python",
   "name": "python",
   "nbconvert_exporter": "python",
   "pygments_lexer": "ipython3",
   "version": "3.11.4"
  }
 },
 "nbformat": 4,
 "nbformat_minor": 5
}
