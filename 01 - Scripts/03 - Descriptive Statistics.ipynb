{
 "cells": [
  {
   "cell_type": "markdown",
   "id": "7a70e035",
   "metadata": {},
   "source": [
    "# TOC\n",
    "1. Importing libraries & data   \n",
    "2. Descriptive statistics - quantitative   \n",
    "3. Descriptive statistics - categorical"
   ]
  },
  {
   "cell_type": "code",
   "execution_count": 1,
   "id": "cd422002",
   "metadata": {},
   "outputs": [],
   "source": [
    "# Importing libraries\n",
    "import pandas as pd\n",
    "import numpy as np\n",
    "import os\n",
    "import matplotlib.pyplot as plt\n",
    "import seaborn\n",
    "import scipy"
   ]
  },
  {
   "cell_type": "code",
   "execution_count": 2,
   "id": "2cbaffda",
   "metadata": {},
   "outputs": [],
   "source": [
    "# Importing data\n",
    "path = r'C:\\Users\\Ryzen RGB Madness!!!\\Iowa Liquor Sales Analysis'"
   ]
  },
  {
   "cell_type": "code",
   "execution_count": 3,
   "id": "66e2b88a",
   "metadata": {},
   "outputs": [],
   "source": [
    "liquor_data_complete = pd.read_pickle(os.path.join(path, '01 - Data', 'Cleaned', 'iowa_liquor_data_complete.pkl'))"
   ]
  },
  {
   "cell_type": "code",
   "execution_count": 4,
   "id": "eef9bda9",
   "metadata": {},
   "outputs": [
    {
     "data": {
      "text/plain": [
       "invoice_number                 object\n",
       "date                   datetime64[ns]\n",
       "store_number           string[python]\n",
       "store_name                     object\n",
       "address                        object\n",
       "city                           object\n",
       "zip_code                       object\n",
       "county                         object\n",
       "category               string[python]\n",
       "category_name                  object\n",
       "vendor_number          string[python]\n",
       "vendor_name                    object\n",
       "item_number            string[python]\n",
       "item_description               object\n",
       "pack                            int64\n",
       "bottle_volume_ml                int64\n",
       "state_bottle_cost             float64\n",
       "state_bottle_retail           float64\n",
       "bottles_sold                    int64\n",
       "sale_dollars                  float64\n",
       "volume_sold_liters            float64\n",
       "volume_sold_gallons           float64\n",
       "dtype: object"
      ]
     },
     "execution_count": 4,
     "metadata": {},
     "output_type": "execute_result"
    }
   ],
   "source": [
    "liquor_data_complete.dtypes"
   ]
  },
  {
   "cell_type": "code",
   "execution_count": 5,
   "id": "9a598bee",
   "metadata": {},
   "outputs": [
    {
     "data": {
      "text/plain": [
       "count    1.253754e+07\n",
       "mean     1.215107e+01\n",
       "std      7.980532e+00\n",
       "min      1.000000e+00\n",
       "25%      6.000000e+00\n",
       "50%      1.200000e+01\n",
       "75%      1.200000e+01\n",
       "max      1.200000e+02\n",
       "Name: pack, dtype: float64"
      ]
     },
     "execution_count": 5,
     "metadata": {},
     "output_type": "execute_result"
    }
   ],
   "source": [
    "# Descriptive statistics on all numeric fields\n",
    "liquor_data_complete['pack'].describe()"
   ]
  },
  {
   "cell_type": "code",
   "execution_count": 6,
   "id": "6084e419",
   "metadata": {},
   "outputs": [
    {
     "data": {
      "text/plain": [
       "count    1.253754e+07\n",
       "mean     8.495272e+02\n",
       "std      5.243446e+02\n",
       "min      2.000000e+01\n",
       "25%      6.000000e+02\n",
       "50%      7.500000e+02\n",
       "75%      1.000000e+03\n",
       "max      6.000000e+03\n",
       "Name: bottle_volume_ml, dtype: float64"
      ]
     },
     "execution_count": 6,
     "metadata": {},
     "output_type": "execute_result"
    }
   ],
   "source": [
    "liquor_data_complete['bottle_volume_ml'].describe()"
   ]
  },
  {
   "cell_type": "code",
   "execution_count": 7,
   "id": "65806771",
   "metadata": {},
   "outputs": [
    {
     "data": {
      "text/plain": [
       "count    1.253754e+07\n",
       "mean     1.100411e+01\n",
       "std      1.204841e+01\n",
       "min      3.300000e-01\n",
       "25%      5.780000e+00\n",
       "50%      8.740000e+00\n",
       "75%      1.350000e+01\n",
       "max      1.843600e+04\n",
       "Name: state_bottle_cost, dtype: float64"
      ]
     },
     "execution_count": 7,
     "metadata": {},
     "output_type": "execute_result"
    }
   ],
   "source": [
    "liquor_data_complete['state_bottle_cost'].describe()"
   ]
  },
  {
   "cell_type": "code",
   "execution_count": 8,
   "id": "7ba92a5f",
   "metadata": {},
   "outputs": [
    {
     "data": {
      "text/plain": [
       "count    1.253754e+07\n",
       "mean     1.650806e+01\n",
       "std      1.807231e+01\n",
       "min      5.000000e-01\n",
       "25%      8.670000e+00\n",
       "50%      1.311000e+01\n",
       "75%      2.025000e+01\n",
       "max      2.765400e+04\n",
       "Name: state_bottle_retail, dtype: float64"
      ]
     },
     "execution_count": 8,
     "metadata": {},
     "output_type": "execute_result"
    }
   ],
   "source": [
    "liquor_data_complete['state_bottle_retail'].describe()"
   ]
  },
  {
   "cell_type": "code",
   "execution_count": 9,
   "id": "288dcfbf",
   "metadata": {},
   "outputs": [],
   "source": [
    "# What is that $18,000 bottle of liquor??\n",
    "cost_max = liquor_data_complete[liquor_data_complete['state_bottle_cost']==18436.0]"
   ]
  },
  {
   "cell_type": "code",
   "execution_count": 10,
   "id": "c658ceff",
   "metadata": {},
   "outputs": [
    {
     "data": {
      "text/html": [
       "<div>\n",
       "<style scoped>\n",
       "    .dataframe tbody tr th:only-of-type {\n",
       "        vertical-align: middle;\n",
       "    }\n",
       "\n",
       "    .dataframe tbody tr th {\n",
       "        vertical-align: top;\n",
       "    }\n",
       "\n",
       "    .dataframe thead th {\n",
       "        text-align: right;\n",
       "    }\n",
       "</style>\n",
       "<table border=\"1\" class=\"dataframe\">\n",
       "  <thead>\n",
       "    <tr style=\"text-align: right;\">\n",
       "      <th></th>\n",
       "      <th>invoice_number</th>\n",
       "      <th>date</th>\n",
       "      <th>store_number</th>\n",
       "      <th>store_name</th>\n",
       "      <th>address</th>\n",
       "      <th>city</th>\n",
       "      <th>zip_code</th>\n",
       "      <th>county</th>\n",
       "      <th>category</th>\n",
       "      <th>category_name</th>\n",
       "      <th>...</th>\n",
       "      <th>item_number</th>\n",
       "      <th>item_description</th>\n",
       "      <th>pack</th>\n",
       "      <th>bottle_volume_ml</th>\n",
       "      <th>state_bottle_cost</th>\n",
       "      <th>state_bottle_retail</th>\n",
       "      <th>bottles_sold</th>\n",
       "      <th>sale_dollars</th>\n",
       "      <th>volume_sold_liters</th>\n",
       "      <th>volume_sold_gallons</th>\n",
       "    </tr>\n",
       "  </thead>\n",
       "  <tbody>\n",
       "    <tr>\n",
       "      <th>2713489</th>\n",
       "      <td>INV-54067800001</td>\n",
       "      <td>2022-12-16</td>\n",
       "      <td>6242</td>\n",
       "      <td>WALL TO WALL WINE AND SPIRITS / WEST DES MOINES</td>\n",
       "      <td>375 SOUTH JORDAN CREEK PARKWAY</td>\n",
       "      <td>WEST DES MOINES</td>\n",
       "      <td>50266</td>\n",
       "      <td>DALLAS</td>\n",
       "      <td>1012200.0</td>\n",
       "      <td>SCOTCH WHISKIES</td>\n",
       "      <td>...</td>\n",
       "      <td>906540</td>\n",
       "      <td>GLENGOYNE SINGLE MALT SCOTCH 50YR DECANTER</td>\n",
       "      <td>1</td>\n",
       "      <td>750</td>\n",
       "      <td>18436.0</td>\n",
       "      <td>27654.0</td>\n",
       "      <td>1</td>\n",
       "      <td>27654.0</td>\n",
       "      <td>0.75</td>\n",
       "      <td>0.19</td>\n",
       "    </tr>\n",
       "  </tbody>\n",
       "</table>\n",
       "<p>1 rows × 22 columns</p>\n",
       "</div>"
      ],
      "text/plain": [
       "          invoice_number       date store_number  \\\n",
       "2713489  INV-54067800001 2022-12-16         6242   \n",
       "\n",
       "                                              store_name  \\\n",
       "2713489  WALL TO WALL WINE AND SPIRITS / WEST DES MOINES   \n",
       "\n",
       "                                address             city zip_code  county  \\\n",
       "2713489  375 SOUTH JORDAN CREEK PARKWAY  WEST DES MOINES    50266  DALLAS   \n",
       "\n",
       "          category    category_name  ... item_number  \\\n",
       "2713489  1012200.0  SCOTCH WHISKIES  ...      906540   \n",
       "\n",
       "                                   item_description pack bottle_volume_ml  \\\n",
       "2713489  GLENGOYNE SINGLE MALT SCOTCH 50YR DECANTER    1              750   \n",
       "\n",
       "         state_bottle_cost  state_bottle_retail  bottles_sold  sale_dollars  \\\n",
       "2713489            18436.0              27654.0             1       27654.0   \n",
       "\n",
       "         volume_sold_liters  volume_sold_gallons  \n",
       "2713489                0.75                 0.19  \n",
       "\n",
       "[1 rows x 22 columns]"
      ]
     },
     "execution_count": 10,
     "metadata": {},
     "output_type": "execute_result"
    }
   ],
   "source": [
    "cost_max.head()"
   ]
  },
  {
   "cell_type": "code",
   "execution_count": 11,
   "id": "3af328cf",
   "metadata": {},
   "outputs": [
    {
     "data": {
      "text/plain": [
       "count    1.253754e+07\n",
       "mean     1.146606e+01\n",
       "std      3.325119e+01\n",
       "min     -3.600000e+02\n",
       "25%      3.000000e+00\n",
       "50%      6.000000e+00\n",
       "75%      1.200000e+01\n",
       "max      1.320000e+04\n",
       "Name: bottles_sold, dtype: float64"
      ]
     },
     "execution_count": 11,
     "metadata": {},
     "output_type": "execute_result"
    }
   ],
   "source": [
    "liquor_data_complete['bottles_sold'].describe()"
   ]
  },
  {
   "cell_type": "code",
   "execution_count": 12,
   "id": "15f810f9",
   "metadata": {},
   "outputs": [],
   "source": [
    "# What is that bottles_sold max??\n",
    "bottle_max = liquor_data_complete[liquor_data_complete['bottles_sold']==13200.0]"
   ]
  },
  {
   "cell_type": "code",
   "execution_count": 13,
   "id": "554c15af",
   "metadata": {},
   "outputs": [
    {
     "data": {
      "text/html": [
       "<div>\n",
       "<style scoped>\n",
       "    .dataframe tbody tr th:only-of-type {\n",
       "        vertical-align: middle;\n",
       "    }\n",
       "\n",
       "    .dataframe tbody tr th {\n",
       "        vertical-align: top;\n",
       "    }\n",
       "\n",
       "    .dataframe thead th {\n",
       "        text-align: right;\n",
       "    }\n",
       "</style>\n",
       "<table border=\"1\" class=\"dataframe\">\n",
       "  <thead>\n",
       "    <tr style=\"text-align: right;\">\n",
       "      <th></th>\n",
       "      <th>invoice_number</th>\n",
       "      <th>date</th>\n",
       "      <th>store_number</th>\n",
       "      <th>store_name</th>\n",
       "      <th>address</th>\n",
       "      <th>city</th>\n",
       "      <th>zip_code</th>\n",
       "      <th>county</th>\n",
       "      <th>category</th>\n",
       "      <th>category_name</th>\n",
       "      <th>...</th>\n",
       "      <th>item_number</th>\n",
       "      <th>item_description</th>\n",
       "      <th>pack</th>\n",
       "      <th>bottle_volume_ml</th>\n",
       "      <th>state_bottle_cost</th>\n",
       "      <th>state_bottle_retail</th>\n",
       "      <th>bottles_sold</th>\n",
       "      <th>sale_dollars</th>\n",
       "      <th>volume_sold_liters</th>\n",
       "      <th>volume_sold_gallons</th>\n",
       "    </tr>\n",
       "  </thead>\n",
       "  <tbody>\n",
       "    <tr>\n",
       "      <th>5801907</th>\n",
       "      <td>INV-30852400189</td>\n",
       "      <td>2020-10-08</td>\n",
       "      <td>2633</td>\n",
       "      <td>HY-VEE #3 / BDI / DES MOINES</td>\n",
       "      <td>3221 SE 14TH ST</td>\n",
       "      <td>DES MOINES</td>\n",
       "      <td>50320.0</td>\n",
       "      <td>POLK</td>\n",
       "      <td>1031100.0</td>\n",
       "      <td>AMERICAN VODKAS</td>\n",
       "      <td>...</td>\n",
       "      <td>38177</td>\n",
       "      <td>TITOS HANDMADE VODKA</td>\n",
       "      <td>12</td>\n",
       "      <td>1000</td>\n",
       "      <td>12.67</td>\n",
       "      <td>19.01</td>\n",
       "      <td>13200</td>\n",
       "      <td>250932.0</td>\n",
       "      <td>13200.0</td>\n",
       "      <td>3487.07</td>\n",
       "    </tr>\n",
       "    <tr>\n",
       "      <th>6039818</th>\n",
       "      <td>INV-38045600132</td>\n",
       "      <td>2021-07-05</td>\n",
       "      <td>2633</td>\n",
       "      <td>HY-VEE #3 / BDI / DES MOINES</td>\n",
       "      <td>3221 SE 14TH ST</td>\n",
       "      <td>DES MOINES</td>\n",
       "      <td>50320.0</td>\n",
       "      <td>POLK</td>\n",
       "      <td>1031100.0</td>\n",
       "      <td>AMERICAN VODKAS</td>\n",
       "      <td>...</td>\n",
       "      <td>38177</td>\n",
       "      <td>TITOS HANDMADE VODKA</td>\n",
       "      <td>12</td>\n",
       "      <td>1000</td>\n",
       "      <td>12.67</td>\n",
       "      <td>19.01</td>\n",
       "      <td>13200</td>\n",
       "      <td>250932.0</td>\n",
       "      <td>13200.0</td>\n",
       "      <td>3487.07</td>\n",
       "    </tr>\n",
       "    <tr>\n",
       "      <th>6578893</th>\n",
       "      <td>INV-35909600152</td>\n",
       "      <td>2021-04-19</td>\n",
       "      <td>2633</td>\n",
       "      <td>HY-VEE #3 / BDI / DES MOINES</td>\n",
       "      <td>3221 SE 14TH ST</td>\n",
       "      <td>DES MOINES</td>\n",
       "      <td>50320.0</td>\n",
       "      <td>POLK</td>\n",
       "      <td>1031100.0</td>\n",
       "      <td>AMERICAN VODKAS</td>\n",
       "      <td>...</td>\n",
       "      <td>38177</td>\n",
       "      <td>TITOS HANDMADE VODKA</td>\n",
       "      <td>12</td>\n",
       "      <td>1000</td>\n",
       "      <td>12.67</td>\n",
       "      <td>19.01</td>\n",
       "      <td>13200</td>\n",
       "      <td>250932.0</td>\n",
       "      <td>13200.0</td>\n",
       "      <td>3487.07</td>\n",
       "    </tr>\n",
       "    <tr>\n",
       "      <th>9012763</th>\n",
       "      <td>INV-43470400126</td>\n",
       "      <td>2022-01-03</td>\n",
       "      <td>2633</td>\n",
       "      <td>HY-VEE #3 / BDI / DES MOINES</td>\n",
       "      <td>3221 SE 14TH ST</td>\n",
       "      <td>DES MOINES</td>\n",
       "      <td>50320</td>\n",
       "      <td>POLK</td>\n",
       "      <td>1031100.0</td>\n",
       "      <td>AMERICAN VODKAS</td>\n",
       "      <td>...</td>\n",
       "      <td>38177</td>\n",
       "      <td>TITOS HANDMADE VODKA</td>\n",
       "      <td>12</td>\n",
       "      <td>1000</td>\n",
       "      <td>12.67</td>\n",
       "      <td>19.01</td>\n",
       "      <td>13200</td>\n",
       "      <td>250932.0</td>\n",
       "      <td>13200.0</td>\n",
       "      <td>3487.07</td>\n",
       "    </tr>\n",
       "  </tbody>\n",
       "</table>\n",
       "<p>4 rows × 22 columns</p>\n",
       "</div>"
      ],
      "text/plain": [
       "          invoice_number       date store_number  \\\n",
       "5801907  INV-30852400189 2020-10-08         2633   \n",
       "6039818  INV-38045600132 2021-07-05         2633   \n",
       "6578893  INV-35909600152 2021-04-19         2633   \n",
       "9012763  INV-43470400126 2022-01-03         2633   \n",
       "\n",
       "                           store_name          address        city zip_code  \\\n",
       "5801907  HY-VEE #3 / BDI / DES MOINES  3221 SE 14TH ST  DES MOINES  50320.0   \n",
       "6039818  HY-VEE #3 / BDI / DES MOINES  3221 SE 14TH ST  DES MOINES  50320.0   \n",
       "6578893  HY-VEE #3 / BDI / DES MOINES  3221 SE 14TH ST  DES MOINES  50320.0   \n",
       "9012763  HY-VEE #3 / BDI / DES MOINES  3221 SE 14TH ST  DES MOINES    50320   \n",
       "\n",
       "        county   category    category_name  ... item_number  \\\n",
       "5801907   POLK  1031100.0  AMERICAN VODKAS  ...       38177   \n",
       "6039818   POLK  1031100.0  AMERICAN VODKAS  ...       38177   \n",
       "6578893   POLK  1031100.0  AMERICAN VODKAS  ...       38177   \n",
       "9012763   POLK  1031100.0  AMERICAN VODKAS  ...       38177   \n",
       "\n",
       "             item_description pack bottle_volume_ml  state_bottle_cost  \\\n",
       "5801907  TITOS HANDMADE VODKA   12             1000              12.67   \n",
       "6039818  TITOS HANDMADE VODKA   12             1000              12.67   \n",
       "6578893  TITOS HANDMADE VODKA   12             1000              12.67   \n",
       "9012763  TITOS HANDMADE VODKA   12             1000              12.67   \n",
       "\n",
       "         state_bottle_retail  bottles_sold  sale_dollars  volume_sold_liters  \\\n",
       "5801907                19.01         13200      250932.0             13200.0   \n",
       "6039818                19.01         13200      250932.0             13200.0   \n",
       "6578893                19.01         13200      250932.0             13200.0   \n",
       "9012763                19.01         13200      250932.0             13200.0   \n",
       "\n",
       "         volume_sold_gallons  \n",
       "5801907              3487.07  \n",
       "6039818              3487.07  \n",
       "6578893              3487.07  \n",
       "9012763              3487.07  \n",
       "\n",
       "[4 rows x 22 columns]"
      ]
     },
     "execution_count": 13,
     "metadata": {},
     "output_type": "execute_result"
    }
   ],
   "source": [
    "bottle_max.head()"
   ]
  },
  {
   "cell_type": "code",
   "execution_count": 14,
   "id": "458edd12",
   "metadata": {},
   "outputs": [
    {
     "data": {
      "text/plain": [
       "count    1.253754e+07\n",
       "mean     1.544963e+02\n",
       "std      5.443291e+02\n",
       "min     -9.720000e+03\n",
       "25%      3.825000e+01\n",
       "50%      8.100000e+01\n",
       "75%      1.616400e+02\n",
       "max      2.795573e+05\n",
       "Name: sale_dollars, dtype: float64"
      ]
     },
     "execution_count": 14,
     "metadata": {},
     "output_type": "execute_result"
    }
   ],
   "source": [
    "liquor_data_complete['sale_dollars'].describe()"
   ]
  },
  {
   "cell_type": "code",
   "execution_count": 15,
   "id": "1f9f9b52",
   "metadata": {},
   "outputs": [],
   "source": [
    "# What is that sale dollars max??? \n",
    "sale_max = liquor_data_complete[liquor_data_complete['sale_dollars']==279557.28]"
   ]
  },
  {
   "cell_type": "code",
   "execution_count": 16,
   "id": "55d3ebbe",
   "metadata": {},
   "outputs": [
    {
     "data": {
      "text/html": [
       "<div>\n",
       "<style scoped>\n",
       "    .dataframe tbody tr th:only-of-type {\n",
       "        vertical-align: middle;\n",
       "    }\n",
       "\n",
       "    .dataframe tbody tr th {\n",
       "        vertical-align: top;\n",
       "    }\n",
       "\n",
       "    .dataframe thead th {\n",
       "        text-align: right;\n",
       "    }\n",
       "</style>\n",
       "<table border=\"1\" class=\"dataframe\">\n",
       "  <thead>\n",
       "    <tr style=\"text-align: right;\">\n",
       "      <th></th>\n",
       "      <th>invoice_number</th>\n",
       "      <th>date</th>\n",
       "      <th>store_number</th>\n",
       "      <th>store_name</th>\n",
       "      <th>address</th>\n",
       "      <th>city</th>\n",
       "      <th>zip_code</th>\n",
       "      <th>county</th>\n",
       "      <th>category</th>\n",
       "      <th>category_name</th>\n",
       "      <th>...</th>\n",
       "      <th>item_number</th>\n",
       "      <th>item_description</th>\n",
       "      <th>pack</th>\n",
       "      <th>bottle_volume_ml</th>\n",
       "      <th>state_bottle_cost</th>\n",
       "      <th>state_bottle_retail</th>\n",
       "      <th>bottles_sold</th>\n",
       "      <th>sale_dollars</th>\n",
       "      <th>volume_sold_liters</th>\n",
       "      <th>volume_sold_gallons</th>\n",
       "    </tr>\n",
       "  </thead>\n",
       "  <tbody>\n",
       "    <tr>\n",
       "      <th>9990254</th>\n",
       "      <td>INV-14774700005</td>\n",
       "      <td>2018-10-02</td>\n",
       "      <td>2663</td>\n",
       "      <td>HY-VEE FOOD STORE / URBANDALE</td>\n",
       "      <td>8701 DOUGLAS</td>\n",
       "      <td>URBANDALE</td>\n",
       "      <td>50322.0</td>\n",
       "      <td>POLK</td>\n",
       "      <td>1012100.0</td>\n",
       "      <td>CANADIAN WHISKIES</td>\n",
       "      <td>...</td>\n",
       "      <td>11296</td>\n",
       "      <td>CROWN ROYAL</td>\n",
       "      <td>12</td>\n",
       "      <td>750</td>\n",
       "      <td>15.59</td>\n",
       "      <td>23.39</td>\n",
       "      <td>11952</td>\n",
       "      <td>279557.28</td>\n",
       "      <td>8964.0</td>\n",
       "      <td>2368.03</td>\n",
       "    </tr>\n",
       "  </tbody>\n",
       "</table>\n",
       "<p>1 rows × 22 columns</p>\n",
       "</div>"
      ],
      "text/plain": [
       "          invoice_number       date store_number  \\\n",
       "9990254  INV-14774700005 2018-10-02         2663   \n",
       "\n",
       "                            store_name       address       city zip_code  \\\n",
       "9990254  HY-VEE FOOD STORE / URBANDALE  8701 DOUGLAS  URBANDALE  50322.0   \n",
       "\n",
       "        county   category      category_name  ... item_number  \\\n",
       "9990254   POLK  1012100.0  CANADIAN WHISKIES  ...       11296   \n",
       "\n",
       "        item_description pack bottle_volume_ml  state_bottle_cost  \\\n",
       "9990254      CROWN ROYAL   12              750              15.59   \n",
       "\n",
       "         state_bottle_retail  bottles_sold  sale_dollars  volume_sold_liters  \\\n",
       "9990254                23.39         11952     279557.28              8964.0   \n",
       "\n",
       "         volume_sold_gallons  \n",
       "9990254              2368.03  \n",
       "\n",
       "[1 rows x 22 columns]"
      ]
     },
     "execution_count": 16,
     "metadata": {},
     "output_type": "execute_result"
    }
   ],
   "source": [
    "sale_max.head()"
   ]
  },
  {
   "cell_type": "code",
   "execution_count": 17,
   "id": "91431a9c",
   "metadata": {},
   "outputs": [
    {
     "data": {
      "text/plain": [
       "count    1.253754e+07\n",
       "mean     9.310477e+00\n",
       "std      3.938240e+01\n",
       "min     -6.300000e+02\n",
       "25%      1.500000e+00\n",
       "50%      4.800000e+00\n",
       "75%      1.050000e+01\n",
       "max      1.320000e+04\n",
       "Name: volume_sold_liters, dtype: float64"
      ]
     },
     "execution_count": 17,
     "metadata": {},
     "output_type": "execute_result"
    }
   ],
   "source": [
    "liquor_data_complete['volume_sold_liters'].describe()"
   ]
  },
  {
   "cell_type": "code",
   "execution_count": 18,
   "id": "fd5d2a8b",
   "metadata": {},
   "outputs": [
    {
     "data": {
      "text/plain": [
       "count    1.253754e+07\n",
       "mean     2.454630e+00\n",
       "std      1.040391e+01\n",
       "min     -1.664200e+02\n",
       "25%      3.900000e-01\n",
       "50%      1.260000e+00\n",
       "75%      2.770000e+00\n",
       "max      3.487070e+03\n",
       "Name: volume_sold_gallons, dtype: float64"
      ]
     },
     "execution_count": 18,
     "metadata": {},
     "output_type": "execute_result"
    }
   ],
   "source": [
    "liquor_data_complete['volume_sold_gallons'].describe()"
   ]
  },
  {
   "cell_type": "code",
   "execution_count": 19,
   "id": "fdc1fe83",
   "metadata": {},
   "outputs": [
    {
     "data": {
      "text/plain": [
       "count     12537545\n",
       "unique        2390\n",
       "top           2633\n",
       "freq         95628\n",
       "Name: store_number, dtype: object"
      ]
     },
     "execution_count": 19,
     "metadata": {},
     "output_type": "execute_result"
    }
   ],
   "source": [
    "liquor_data_complete['store_number'].describe()"
   ]
  },
  {
   "cell_type": "code",
   "execution_count": 20,
   "id": "906e8e63",
   "metadata": {},
   "outputs": [
    {
     "data": {
      "text/plain": [
       "count                         12537545\n",
       "unique                            2477\n",
       "top       HY-VEE #3 / BDI / DES MOINES\n",
       "freq                             95628\n",
       "Name: store_name, dtype: object"
      ]
     },
     "execution_count": 20,
     "metadata": {},
     "output_type": "execute_result"
    }
   ],
   "source": [
    "liquor_data_complete['store_name'].describe()"
   ]
  },
  {
   "cell_type": "code",
   "execution_count": 21,
   "id": "6f727b88",
   "metadata": {},
   "outputs": [
    {
     "data": {
      "text/plain": [
       "count            12537545\n",
       "unique               2443\n",
       "top       3221 SE 14TH ST\n",
       "freq               130640\n",
       "Name: address, dtype: object"
      ]
     },
     "execution_count": 21,
     "metadata": {},
     "output_type": "execute_result"
    }
   ],
   "source": [
    "liquor_data_complete['address'].describe()"
   ]
  },
  {
   "cell_type": "code",
   "execution_count": 22,
   "id": "8a70a64e",
   "metadata": {},
   "outputs": [
    {
     "data": {
      "text/plain": [
       "count       12537545\n",
       "unique           462\n",
       "top       DES MOINES\n",
       "freq         1038875\n",
       "Name: city, dtype: object"
      ]
     },
     "execution_count": 22,
     "metadata": {},
     "output_type": "execute_result"
    }
   ],
   "source": [
    "liquor_data_complete['city'].describe()"
   ]
  },
  {
   "cell_type": "code",
   "execution_count": 23,
   "id": "104f86a2",
   "metadata": {},
   "outputs": [
    {
     "data": {
      "text/plain": [
       "count     12537545\n",
       "unique         992\n",
       "top        50010.0\n",
       "freq        214745\n",
       "Name: zip_code, dtype: object"
      ]
     },
     "execution_count": 23,
     "metadata": {},
     "output_type": "execute_result"
    }
   ],
   "source": [
    "liquor_data_complete['zip_code'].describe()"
   ]
  },
  {
   "cell_type": "code",
   "execution_count": 24,
   "id": "06091f4f",
   "metadata": {},
   "outputs": [
    {
     "data": {
      "text/plain": [
       "count     12537545\n",
       "unique         100\n",
       "top           POLK\n",
       "freq       2356658\n",
       "Name: county, dtype: object"
      ]
     },
     "execution_count": 24,
     "metadata": {},
     "output_type": "execute_result"
    }
   ],
   "source": [
    "liquor_data_complete['county'].describe()"
   ]
  },
  {
   "cell_type": "code",
   "execution_count": 25,
   "id": "0f39e2b2",
   "metadata": {},
   "outputs": [
    {
     "data": {
      "text/plain": [
       "count      12537545\n",
       "unique           62\n",
       "top       1031100.0\n",
       "freq        1884341\n",
       "Name: category, dtype: object"
      ]
     },
     "execution_count": 25,
     "metadata": {},
     "output_type": "execute_result"
    }
   ],
   "source": [
    "liquor_data_complete['category'].describe()"
   ]
  },
  {
   "cell_type": "code",
   "execution_count": 26,
   "id": "b3c7d521",
   "metadata": {},
   "outputs": [
    {
     "data": {
      "text/plain": [
       "count            12537545\n",
       "unique                 51\n",
       "top       AMERICAN VODKAS\n",
       "freq              1884737\n",
       "Name: category_name, dtype: object"
      ]
     },
     "execution_count": 26,
     "metadata": {},
     "output_type": "execute_result"
    }
   ],
   "source": [
    "liquor_data_complete['category_name'].describe()"
   ]
  },
  {
   "cell_type": "code",
   "execution_count": 27,
   "id": "cef43c8b",
   "metadata": {},
   "outputs": [
    {
     "data": {
      "text/plain": [
       "count     12537545\n",
       "unique         346\n",
       "top          260.0\n",
       "freq       2000745\n",
       "Name: vendor_number, dtype: object"
      ]
     },
     "execution_count": 27,
     "metadata": {},
     "output_type": "execute_result"
    }
   ],
   "source": [
    "liquor_data_complete['vendor_number'].describe()"
   ]
  },
  {
   "cell_type": "code",
   "execution_count": 28,
   "id": "2f150707",
   "metadata": {},
   "outputs": [
    {
     "data": {
      "text/plain": [
       "count            12537545\n",
       "unique                375\n",
       "top       DIAGEO AMERICAS\n",
       "freq              2000745\n",
       "Name: vendor_name, dtype: object"
      ]
     },
     "execution_count": 28,
     "metadata": {},
     "output_type": "execute_result"
    }
   ],
   "source": [
    "liquor_data_complete['vendor_name'].describe()"
   ]
  },
  {
   "cell_type": "code",
   "execution_count": 29,
   "id": "206dbdf2",
   "metadata": {},
   "outputs": [
    {
     "data": {
      "text/plain": [
       "count     12537545\n",
       "unique        8117\n",
       "top          11788\n",
       "freq        123404\n",
       "Name: item_number, dtype: object"
      ]
     },
     "execution_count": 29,
     "metadata": {},
     "output_type": "execute_result"
    }
   ],
   "source": [
    "liquor_data_complete['item_number'].describe()"
   ]
  },
  {
   "cell_type": "code",
   "execution_count": 30,
   "id": "6ed9099f",
   "metadata": {},
   "outputs": [
    {
     "data": {
      "text/plain": [
       "count         12537545\n",
       "unique            7918\n",
       "top       BLACK VELVET\n",
       "freq            305694\n",
       "Name: item_description, dtype: object"
      ]
     },
     "execution_count": 30,
     "metadata": {},
     "output_type": "execute_result"
    }
   ],
   "source": [
    "liquor_data_complete['item_description'].describe()"
   ]
  },
  {
   "cell_type": "code",
   "execution_count": 31,
   "id": "3d93e68f",
   "metadata": {},
   "outputs": [
    {
     "data": {
      "text/plain": [
       "count                         12537545\n",
       "mean     2020-07-26 00:08:30.314642432\n",
       "min                2018-01-02 00:00:00\n",
       "25%                2019-05-08 00:00:00\n",
       "50%                2020-08-06 00:00:00\n",
       "75%                2021-10-19 00:00:00\n",
       "max                2022-12-30 00:00:00\n",
       "Name: date, dtype: object"
      ]
     },
     "execution_count": 31,
     "metadata": {},
     "output_type": "execute_result"
    }
   ],
   "source": [
    "liquor_data_complete['date'].describe()"
   ]
  },
  {
   "cell_type": "code",
   "execution_count": 32,
   "id": "a6fde967",
   "metadata": {},
   "outputs": [
    {
     "data": {
      "text/plain": [
       "count            12537545\n",
       "unique           12537545\n",
       "top       INV-14210900001\n",
       "freq                    1\n",
       "Name: invoice_number, dtype: object"
      ]
     },
     "execution_count": 32,
     "metadata": {},
     "output_type": "execute_result"
    }
   ],
   "source": [
    "liquor_data_complete['invoice_number'].describe()"
   ]
  },
  {
   "cell_type": "code",
   "execution_count": null,
   "id": "451f5dda",
   "metadata": {},
   "outputs": [],
   "source": []
  }
 ],
 "metadata": {
  "kernelspec": {
   "display_name": "Python 3 (ipykernel)",
   "language": "python",
   "name": "python3"
  },
  "language_info": {
   "codemirror_mode": {
    "name": "ipython",
    "version": 3
   },
   "file_extension": ".py",
   "mimetype": "text/x-python",
   "name": "python",
   "nbconvert_exporter": "python",
   "pygments_lexer": "ipython3",
   "version": "3.11.4"
  }
 },
 "nbformat": 4,
 "nbformat_minor": 5
}
